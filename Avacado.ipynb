{
 "cells": [
  {
   "cell_type": "code",
   "execution_count": 99,
   "metadata": {},
   "outputs": [],
   "source": [
    "import pandas as pd\n",
    "import numpy as np\n",
    "import matplotlib.pyplot as plt\n",
    "import seaborn as sns\n",
    "import joblib\n",
    "import warnings\n",
    "warnings.filterwarnings('ignore')"
   ]
  },
  {
   "cell_type": "code",
   "execution_count": 100,
   "metadata": {},
   "outputs": [],
   "source": [
    "df=pd.read_csv('Avacado.csv')\n",
    "#importing the csv file"
   ]
  },
  {
   "cell_type": "code",
   "execution_count": 101,
   "metadata": {
    "scrolled": true
   },
   "outputs": [
    {
     "data": {
      "text/html": [
       "<div>\n",
       "<style scoped>\n",
       "    .dataframe tbody tr th:only-of-type {\n",
       "        vertical-align: middle;\n",
       "    }\n",
       "\n",
       "    .dataframe tbody tr th {\n",
       "        vertical-align: top;\n",
       "    }\n",
       "\n",
       "    .dataframe thead th {\n",
       "        text-align: right;\n",
       "    }\n",
       "</style>\n",
       "<table border=\"1\" class=\"dataframe\">\n",
       "  <thead>\n",
       "    <tr style=\"text-align: right;\">\n",
       "      <th></th>\n",
       "      <th>Unnamed: 0</th>\n",
       "      <th>Date</th>\n",
       "      <th>AveragePrice</th>\n",
       "      <th>Total Volume</th>\n",
       "      <th>4046</th>\n",
       "      <th>4225</th>\n",
       "      <th>4770</th>\n",
       "      <th>Total Bags</th>\n",
       "      <th>Small Bags</th>\n",
       "      <th>Large Bags</th>\n",
       "      <th>XLarge Bags</th>\n",
       "      <th>type</th>\n",
       "      <th>year</th>\n",
       "      <th>region</th>\n",
       "    </tr>\n",
       "  </thead>\n",
       "  <tbody>\n",
       "    <tr>\n",
       "      <th>0</th>\n",
       "      <td>0.0</td>\n",
       "      <td>27-12-2015</td>\n",
       "      <td>1.33</td>\n",
       "      <td>64236.62</td>\n",
       "      <td>1036.74</td>\n",
       "      <td>54454.85</td>\n",
       "      <td>48.16</td>\n",
       "      <td>8696.87</td>\n",
       "      <td>8603.62</td>\n",
       "      <td>93.25</td>\n",
       "      <td>0.0</td>\n",
       "      <td>conventional</td>\n",
       "      <td>2015.0</td>\n",
       "      <td>Albany</td>\n",
       "    </tr>\n",
       "    <tr>\n",
       "      <th>1</th>\n",
       "      <td>1.0</td>\n",
       "      <td>20-12-2015</td>\n",
       "      <td>1.35</td>\n",
       "      <td>54876.98</td>\n",
       "      <td>674.28</td>\n",
       "      <td>44638.81</td>\n",
       "      <td>58.33</td>\n",
       "      <td>9505.56</td>\n",
       "      <td>9408.07</td>\n",
       "      <td>97.49</td>\n",
       "      <td>0.0</td>\n",
       "      <td>conventional</td>\n",
       "      <td>2015.0</td>\n",
       "      <td>Albany</td>\n",
       "    </tr>\n",
       "    <tr>\n",
       "      <th>2</th>\n",
       "      <td>2.0</td>\n",
       "      <td>13-12-2015</td>\n",
       "      <td>0.93</td>\n",
       "      <td>118220.22</td>\n",
       "      <td>794.70</td>\n",
       "      <td>109149.67</td>\n",
       "      <td>130.50</td>\n",
       "      <td>8145.35</td>\n",
       "      <td>8042.21</td>\n",
       "      <td>103.14</td>\n",
       "      <td>0.0</td>\n",
       "      <td>conventional</td>\n",
       "      <td>2015.0</td>\n",
       "      <td>Albany</td>\n",
       "    </tr>\n",
       "    <tr>\n",
       "      <th>3</th>\n",
       "      <td>3.0</td>\n",
       "      <td>06-12-2015</td>\n",
       "      <td>1.08</td>\n",
       "      <td>78992.15</td>\n",
       "      <td>1132.00</td>\n",
       "      <td>71976.41</td>\n",
       "      <td>72.58</td>\n",
       "      <td>5811.16</td>\n",
       "      <td>5677.40</td>\n",
       "      <td>133.76</td>\n",
       "      <td>0.0</td>\n",
       "      <td>conventional</td>\n",
       "      <td>2015.0</td>\n",
       "      <td>Albany</td>\n",
       "    </tr>\n",
       "    <tr>\n",
       "      <th>4</th>\n",
       "      <td>4.0</td>\n",
       "      <td>29-11-2015</td>\n",
       "      <td>1.28</td>\n",
       "      <td>51039.60</td>\n",
       "      <td>941.48</td>\n",
       "      <td>43838.39</td>\n",
       "      <td>75.78</td>\n",
       "      <td>6183.95</td>\n",
       "      <td>5986.26</td>\n",
       "      <td>197.69</td>\n",
       "      <td>0.0</td>\n",
       "      <td>conventional</td>\n",
       "      <td>2015.0</td>\n",
       "      <td>Albany</td>\n",
       "    </tr>\n",
       "    <tr>\n",
       "      <th>...</th>\n",
       "      <td>...</td>\n",
       "      <td>...</td>\n",
       "      <td>...</td>\n",
       "      <td>...</td>\n",
       "      <td>...</td>\n",
       "      <td>...</td>\n",
       "      <td>...</td>\n",
       "      <td>...</td>\n",
       "      <td>...</td>\n",
       "      <td>...</td>\n",
       "      <td>...</td>\n",
       "      <td>...</td>\n",
       "      <td>...</td>\n",
       "      <td>...</td>\n",
       "    </tr>\n",
       "    <tr>\n",
       "      <th>16463</th>\n",
       "      <td>NaN</td>\n",
       "      <td>NaN</td>\n",
       "      <td>NaN</td>\n",
       "      <td>NaN</td>\n",
       "      <td>NaN</td>\n",
       "      <td>NaN</td>\n",
       "      <td>NaN</td>\n",
       "      <td>NaN</td>\n",
       "      <td>NaN</td>\n",
       "      <td>NaN</td>\n",
       "      <td>NaN</td>\n",
       "      <td>NaN</td>\n",
       "      <td>NaN</td>\n",
       "      <td>NaN</td>\n",
       "    </tr>\n",
       "    <tr>\n",
       "      <th>16464</th>\n",
       "      <td>NaN</td>\n",
       "      <td>NaN</td>\n",
       "      <td>NaN</td>\n",
       "      <td>NaN</td>\n",
       "      <td>NaN</td>\n",
       "      <td>NaN</td>\n",
       "      <td>NaN</td>\n",
       "      <td>NaN</td>\n",
       "      <td>NaN</td>\n",
       "      <td>NaN</td>\n",
       "      <td>NaN</td>\n",
       "      <td>NaN</td>\n",
       "      <td>NaN</td>\n",
       "      <td>NaN</td>\n",
       "    </tr>\n",
       "    <tr>\n",
       "      <th>16465</th>\n",
       "      <td>NaN</td>\n",
       "      <td>NaN</td>\n",
       "      <td>NaN</td>\n",
       "      <td>NaN</td>\n",
       "      <td>NaN</td>\n",
       "      <td>NaN</td>\n",
       "      <td>NaN</td>\n",
       "      <td>NaN</td>\n",
       "      <td>NaN</td>\n",
       "      <td>NaN</td>\n",
       "      <td>NaN</td>\n",
       "      <td>NaN</td>\n",
       "      <td>NaN</td>\n",
       "      <td>NaN</td>\n",
       "    </tr>\n",
       "    <tr>\n",
       "      <th>16466</th>\n",
       "      <td>NaN</td>\n",
       "      <td>NaN</td>\n",
       "      <td>NaN</td>\n",
       "      <td>NaN</td>\n",
       "      <td>NaN</td>\n",
       "      <td>NaN</td>\n",
       "      <td>NaN</td>\n",
       "      <td>NaN</td>\n",
       "      <td>NaN</td>\n",
       "      <td>NaN</td>\n",
       "      <td>NaN</td>\n",
       "      <td>NaN</td>\n",
       "      <td>NaN</td>\n",
       "      <td>NaN</td>\n",
       "    </tr>\n",
       "    <tr>\n",
       "      <th>16467</th>\n",
       "      <td>NaN</td>\n",
       "      <td>NaN</td>\n",
       "      <td>NaN</td>\n",
       "      <td>NaN</td>\n",
       "      <td>NaN</td>\n",
       "      <td>NaN</td>\n",
       "      <td>NaN</td>\n",
       "      <td>NaN</td>\n",
       "      <td>NaN</td>\n",
       "      <td>NaN</td>\n",
       "      <td>NaN</td>\n",
       "      <td>NaN</td>\n",
       "      <td>NaN</td>\n",
       "      <td>NaN</td>\n",
       "    </tr>\n",
       "  </tbody>\n",
       "</table>\n",
       "<p>16468 rows × 14 columns</p>\n",
       "</div>"
      ],
      "text/plain": [
       "       Unnamed: 0        Date  AveragePrice  Total Volume     4046       4225  \\\n",
       "0             0.0  27-12-2015          1.33      64236.62  1036.74   54454.85   \n",
       "1             1.0  20-12-2015          1.35      54876.98   674.28   44638.81   \n",
       "2             2.0  13-12-2015          0.93     118220.22   794.70  109149.67   \n",
       "3             3.0  06-12-2015          1.08      78992.15  1132.00   71976.41   \n",
       "4             4.0  29-11-2015          1.28      51039.60   941.48   43838.39   \n",
       "...           ...         ...           ...           ...      ...        ...   \n",
       "16463         NaN         NaN           NaN           NaN      NaN        NaN   \n",
       "16464         NaN         NaN           NaN           NaN      NaN        NaN   \n",
       "16465         NaN         NaN           NaN           NaN      NaN        NaN   \n",
       "16466         NaN         NaN           NaN           NaN      NaN        NaN   \n",
       "16467         NaN         NaN           NaN           NaN      NaN        NaN   \n",
       "\n",
       "         4770  Total Bags  Small Bags  Large Bags  XLarge Bags          type  \\\n",
       "0       48.16     8696.87     8603.62       93.25          0.0  conventional   \n",
       "1       58.33     9505.56     9408.07       97.49          0.0  conventional   \n",
       "2      130.50     8145.35     8042.21      103.14          0.0  conventional   \n",
       "3       72.58     5811.16     5677.40      133.76          0.0  conventional   \n",
       "4       75.78     6183.95     5986.26      197.69          0.0  conventional   \n",
       "...       ...         ...         ...         ...          ...           ...   \n",
       "16463     NaN         NaN         NaN         NaN          NaN           NaN   \n",
       "16464     NaN         NaN         NaN         NaN          NaN           NaN   \n",
       "16465     NaN         NaN         NaN         NaN          NaN           NaN   \n",
       "16466     NaN         NaN         NaN         NaN          NaN           NaN   \n",
       "16467     NaN         NaN         NaN         NaN          NaN           NaN   \n",
       "\n",
       "         year  region  \n",
       "0      2015.0  Albany  \n",
       "1      2015.0  Albany  \n",
       "2      2015.0  Albany  \n",
       "3      2015.0  Albany  \n",
       "4      2015.0  Albany  \n",
       "...       ...     ...  \n",
       "16463     NaN     NaN  \n",
       "16464     NaN     NaN  \n",
       "16465     NaN     NaN  \n",
       "16466     NaN     NaN  \n",
       "16467     NaN     NaN  \n",
       "\n",
       "[16468 rows x 14 columns]"
      ]
     },
     "execution_count": 101,
     "metadata": {},
     "output_type": "execute_result"
    }
   ],
   "source": [
    "df"
   ]
  },
  {
   "cell_type": "markdown",
   "metadata": {},
   "source": [
    "There are 16468 rows × 14 columns and columns are as shown above"
   ]
  },
  {
   "cell_type": "markdown",
   "metadata": {},
   "source": [
    "# Exploratory Data Analysis"
   ]
  },
  {
   "cell_type": "code",
   "execution_count": 102,
   "metadata": {},
   "outputs": [
    {
     "data": {
      "text/plain": [
       "(16468, 14)"
      ]
     },
     "execution_count": 102,
     "metadata": {},
     "output_type": "execute_result"
    }
   ],
   "source": [
    "df.shape # dataset contains 16468 rows and 14 columns"
   ]
  },
  {
   "cell_type": "code",
   "execution_count": 103,
   "metadata": {},
   "outputs": [
    {
     "data": {
      "text/plain": [
       "Unnamed: 0      14951\n",
       "Date            14951\n",
       "AveragePrice    14951\n",
       "Total Volume    14951\n",
       "4046            14951\n",
       "4225            14951\n",
       "4770            14951\n",
       "Total Bags      14951\n",
       "Small Bags      14951\n",
       "Large Bags      14951\n",
       "XLarge Bags     14951\n",
       "type            14951\n",
       "year            14951\n",
       "region          14951\n",
       "dtype: int64"
      ]
     },
     "execution_count": 103,
     "metadata": {},
     "output_type": "execute_result"
    }
   ],
   "source": [
    "df.isnull().sum() # checking null values"
   ]
  },
  {
   "cell_type": "markdown",
   "metadata": {},
   "source": [
    "We can see that all the columns have same no of null values and therefore removing them will not effect our data. "
   ]
  },
  {
   "cell_type": "code",
   "execution_count": 104,
   "metadata": {},
   "outputs": [],
   "source": [
    "df.dropna(axis=0, how=\"any\", inplace=True) # dropping all the null values"
   ]
  },
  {
   "cell_type": "code",
   "execution_count": 105,
   "metadata": {},
   "outputs": [
    {
     "data": {
      "text/plain": [
       "Unnamed: 0      0\n",
       "Date            0\n",
       "AveragePrice    0\n",
       "Total Volume    0\n",
       "4046            0\n",
       "4225            0\n",
       "4770            0\n",
       "Total Bags      0\n",
       "Small Bags      0\n",
       "Large Bags      0\n",
       "XLarge Bags     0\n",
       "type            0\n",
       "year            0\n",
       "region          0\n",
       "dtype: int64"
      ]
     },
     "execution_count": 105,
     "metadata": {},
     "output_type": "execute_result"
    }
   ],
   "source": [
    "df.isnull().sum() # checking null values"
   ]
  },
  {
   "cell_type": "code",
   "execution_count": 106,
   "metadata": {},
   "outputs": [
    {
     "data": {
      "text/plain": [
       "(1517, 14)"
      ]
     },
     "execution_count": 106,
     "metadata": {},
     "output_type": "execute_result"
    }
   ],
   "source": [
    "df.shape # checking shape. Now here we can see that we have 1517 Rows and 13 Columns in our dataset"
   ]
  },
  {
   "cell_type": "markdown",
   "metadata": {},
   "source": [
    "Also we can delete the \"Unnamed: 0\" Column as it is index column"
   ]
  },
  {
   "cell_type": "code",
   "execution_count": 107,
   "metadata": {},
   "outputs": [],
   "source": [
    "df.drop([\"Unnamed: 0\"],axis=1, inplace=True)"
   ]
  },
  {
   "cell_type": "code",
   "execution_count": 108,
   "metadata": {},
   "outputs": [
    {
     "data": {
      "text/html": [
       "<div>\n",
       "<style scoped>\n",
       "    .dataframe tbody tr th:only-of-type {\n",
       "        vertical-align: middle;\n",
       "    }\n",
       "\n",
       "    .dataframe tbody tr th {\n",
       "        vertical-align: top;\n",
       "    }\n",
       "\n",
       "    .dataframe thead th {\n",
       "        text-align: right;\n",
       "    }\n",
       "</style>\n",
       "<table border=\"1\" class=\"dataframe\">\n",
       "  <thead>\n",
       "    <tr style=\"text-align: right;\">\n",
       "      <th></th>\n",
       "      <th>Date</th>\n",
       "      <th>AveragePrice</th>\n",
       "      <th>Total Volume</th>\n",
       "      <th>4046</th>\n",
       "      <th>4225</th>\n",
       "      <th>4770</th>\n",
       "      <th>Total Bags</th>\n",
       "      <th>Small Bags</th>\n",
       "      <th>Large Bags</th>\n",
       "      <th>XLarge Bags</th>\n",
       "      <th>type</th>\n",
       "      <th>year</th>\n",
       "      <th>region</th>\n",
       "    </tr>\n",
       "  </thead>\n",
       "  <tbody>\n",
       "    <tr>\n",
       "      <th>0</th>\n",
       "      <td>27-12-2015</td>\n",
       "      <td>1.33</td>\n",
       "      <td>64236.62</td>\n",
       "      <td>1036.74</td>\n",
       "      <td>54454.85</td>\n",
       "      <td>48.16</td>\n",
       "      <td>8696.87</td>\n",
       "      <td>8603.62</td>\n",
       "      <td>93.25</td>\n",
       "      <td>0.0</td>\n",
       "      <td>conventional</td>\n",
       "      <td>2015.0</td>\n",
       "      <td>Albany</td>\n",
       "    </tr>\n",
       "    <tr>\n",
       "      <th>1</th>\n",
       "      <td>20-12-2015</td>\n",
       "      <td>1.35</td>\n",
       "      <td>54876.98</td>\n",
       "      <td>674.28</td>\n",
       "      <td>44638.81</td>\n",
       "      <td>58.33</td>\n",
       "      <td>9505.56</td>\n",
       "      <td>9408.07</td>\n",
       "      <td>97.49</td>\n",
       "      <td>0.0</td>\n",
       "      <td>conventional</td>\n",
       "      <td>2015.0</td>\n",
       "      <td>Albany</td>\n",
       "    </tr>\n",
       "    <tr>\n",
       "      <th>2</th>\n",
       "      <td>13-12-2015</td>\n",
       "      <td>0.93</td>\n",
       "      <td>118220.22</td>\n",
       "      <td>794.70</td>\n",
       "      <td>109149.67</td>\n",
       "      <td>130.50</td>\n",
       "      <td>8145.35</td>\n",
       "      <td>8042.21</td>\n",
       "      <td>103.14</td>\n",
       "      <td>0.0</td>\n",
       "      <td>conventional</td>\n",
       "      <td>2015.0</td>\n",
       "      <td>Albany</td>\n",
       "    </tr>\n",
       "    <tr>\n",
       "      <th>3</th>\n",
       "      <td>06-12-2015</td>\n",
       "      <td>1.08</td>\n",
       "      <td>78992.15</td>\n",
       "      <td>1132.00</td>\n",
       "      <td>71976.41</td>\n",
       "      <td>72.58</td>\n",
       "      <td>5811.16</td>\n",
       "      <td>5677.40</td>\n",
       "      <td>133.76</td>\n",
       "      <td>0.0</td>\n",
       "      <td>conventional</td>\n",
       "      <td>2015.0</td>\n",
       "      <td>Albany</td>\n",
       "    </tr>\n",
       "    <tr>\n",
       "      <th>4</th>\n",
       "      <td>29-11-2015</td>\n",
       "      <td>1.28</td>\n",
       "      <td>51039.60</td>\n",
       "      <td>941.48</td>\n",
       "      <td>43838.39</td>\n",
       "      <td>75.78</td>\n",
       "      <td>6183.95</td>\n",
       "      <td>5986.26</td>\n",
       "      <td>197.69</td>\n",
       "      <td>0.0</td>\n",
       "      <td>conventional</td>\n",
       "      <td>2015.0</td>\n",
       "      <td>Albany</td>\n",
       "    </tr>\n",
       "  </tbody>\n",
       "</table>\n",
       "</div>"
      ],
      "text/plain": [
       "         Date  AveragePrice  Total Volume     4046       4225    4770  \\\n",
       "0  27-12-2015          1.33      64236.62  1036.74   54454.85   48.16   \n",
       "1  20-12-2015          1.35      54876.98   674.28   44638.81   58.33   \n",
       "2  13-12-2015          0.93     118220.22   794.70  109149.67  130.50   \n",
       "3  06-12-2015          1.08      78992.15  1132.00   71976.41   72.58   \n",
       "4  29-11-2015          1.28      51039.60   941.48   43838.39   75.78   \n",
       "\n",
       "   Total Bags  Small Bags  Large Bags  XLarge Bags          type    year  \\\n",
       "0     8696.87     8603.62       93.25          0.0  conventional  2015.0   \n",
       "1     9505.56     9408.07       97.49          0.0  conventional  2015.0   \n",
       "2     8145.35     8042.21      103.14          0.0  conventional  2015.0   \n",
       "3     5811.16     5677.40      133.76          0.0  conventional  2015.0   \n",
       "4     6183.95     5986.26      197.69          0.0  conventional  2015.0   \n",
       "\n",
       "   region  \n",
       "0  Albany  \n",
       "1  Albany  \n",
       "2  Albany  \n",
       "3  Albany  \n",
       "4  Albany  "
      ]
     },
     "execution_count": 108,
     "metadata": {},
     "output_type": "execute_result"
    }
   ],
   "source": [
    "df.head()"
   ]
  },
  {
   "cell_type": "code",
   "execution_count": 109,
   "metadata": {},
   "outputs": [
    {
     "data": {
      "image/png": "[encoded data removed]",
      "text/plain": [
       "<Figure size 720x360 with 1 Axes>"
      ]
     },
     "metadata": {
      "needs_background": "light"
     },
     "output_type": "display_data"
    }
   ],
   "source": [
    "import matplotlib.pyplot as mat_plt\n",
    "mat_plt.figure(figsize= (10,5))\n",
    "import seaborn as sns\n",
    "pl = sns.distplot(df['AveragePrice'],color = 'r')\n"
   ]
  },
  {
   "cell_type": "markdown",
   "metadata": {},
   "source": [
    "We can see that AveragePrice is following normal distribution"
   ]
  },
  {
   "cell_type": "code",
   "execution_count": 110,
   "metadata": {},
   "outputs": [
    {
     "data": {
      "text/plain": [
       "array(['conventional'], dtype=object)"
      ]
     },
     "execution_count": 110,
     "metadata": {},
     "output_type": "execute_result"
    }
   ],
   "source": [
    "df['type'].unique()"
   ]
  },
  {
   "cell_type": "code",
   "execution_count": 111,
   "metadata": {},
   "outputs": [
    {
     "data": {
      "text/html": [
       "<div>\n",
       "<style scoped>\n",
       "    .dataframe tbody tr th:only-of-type {\n",
       "        vertical-align: middle;\n",
       "    }\n",
       "\n",
       "    .dataframe tbody tr th {\n",
       "        vertical-align: top;\n",
       "    }\n",
       "\n",
       "    .dataframe thead th {\n",
       "        text-align: right;\n",
       "    }\n",
       "</style>\n",
       "<table border=\"1\" class=\"dataframe\">\n",
       "  <thead>\n",
       "    <tr style=\"text-align: right;\">\n",
       "      <th></th>\n",
       "      <th>AveragePrice</th>\n",
       "      <th>Total Volume</th>\n",
       "      <th>4046</th>\n",
       "      <th>4225</th>\n",
       "      <th>4770</th>\n",
       "      <th>Total Bags</th>\n",
       "      <th>Small Bags</th>\n",
       "      <th>Large Bags</th>\n",
       "      <th>XLarge Bags</th>\n",
       "      <th>year</th>\n",
       "    </tr>\n",
       "  </thead>\n",
       "  <tbody>\n",
       "    <tr>\n",
       "      <th>count</th>\n",
       "      <td>1517.000000</td>\n",
       "      <td>1.517000e+03</td>\n",
       "      <td>1.517000e+03</td>\n",
       "      <td>1.517000e+03</td>\n",
       "      <td>1.517000e+03</td>\n",
       "      <td>1.517000e+03</td>\n",
       "      <td>1.517000e+03</td>\n",
       "      <td>1.517000e+03</td>\n",
       "      <td>1517.000000</td>\n",
       "      <td>1517.000000</td>\n",
       "    </tr>\n",
       "    <tr>\n",
       "      <th>mean</th>\n",
       "      <td>1.074990</td>\n",
       "      <td>1.601879e+06</td>\n",
       "      <td>6.464387e+05</td>\n",
       "      <td>6.114375e+05</td>\n",
       "      <td>5.040550e+04</td>\n",
       "      <td>2.935974e+05</td>\n",
       "      <td>2.487736e+05</td>\n",
       "      <td>4.264205e+04</td>\n",
       "      <td>2181.771074</td>\n",
       "      <td>2015.162821</td>\n",
       "    </tr>\n",
       "    <tr>\n",
       "      <th>std</th>\n",
       "      <td>0.188891</td>\n",
       "      <td>4.433143e+06</td>\n",
       "      <td>1.947614e+06</td>\n",
       "      <td>1.672906e+06</td>\n",
       "      <td>1.377812e+05</td>\n",
       "      <td>7.579765e+05</td>\n",
       "      <td>6.474765e+05</td>\n",
       "      <td>1.182157e+05</td>\n",
       "      <td>7455.712144</td>\n",
       "      <td>0.369324</td>\n",
       "    </tr>\n",
       "    <tr>\n",
       "      <th>min</th>\n",
       "      <td>0.490000</td>\n",
       "      <td>3.875074e+04</td>\n",
       "      <td>4.677200e+02</td>\n",
       "      <td>1.783770e+03</td>\n",
       "      <td>0.000000e+00</td>\n",
       "      <td>3.311770e+03</td>\n",
       "      <td>3.311770e+03</td>\n",
       "      <td>0.000000e+00</td>\n",
       "      <td>0.000000</td>\n",
       "      <td>2015.000000</td>\n",
       "    </tr>\n",
       "    <tr>\n",
       "      <th>25%</th>\n",
       "      <td>0.980000</td>\n",
       "      <td>1.474700e+05</td>\n",
       "      <td>2.040034e+04</td>\n",
       "      <td>4.147606e+04</td>\n",
       "      <td>9.112500e+02</td>\n",
       "      <td>3.620689e+04</td>\n",
       "      <td>2.972722e+04</td>\n",
       "      <td>5.407400e+02</td>\n",
       "      <td>0.000000</td>\n",
       "      <td>2015.000000</td>\n",
       "    </tr>\n",
       "    <tr>\n",
       "      <th>50%</th>\n",
       "      <td>1.080000</td>\n",
       "      <td>4.027919e+05</td>\n",
       "      <td>8.175117e+04</td>\n",
       "      <td>1.186649e+05</td>\n",
       "      <td>7.688170e+03</td>\n",
       "      <td>7.397906e+04</td>\n",
       "      <td>6.237569e+04</td>\n",
       "      <td>5.044350e+03</td>\n",
       "      <td>0.000000</td>\n",
       "      <td>2015.000000</td>\n",
       "    </tr>\n",
       "    <tr>\n",
       "      <th>75%</th>\n",
       "      <td>1.190000</td>\n",
       "      <td>9.819751e+05</td>\n",
       "      <td>3.775785e+05</td>\n",
       "      <td>4.851503e+05</td>\n",
       "      <td>2.916730e+04</td>\n",
       "      <td>1.576097e+05</td>\n",
       "      <td>1.461994e+05</td>\n",
       "      <td>2.926767e+04</td>\n",
       "      <td>401.480000</td>\n",
       "      <td>2015.000000</td>\n",
       "    </tr>\n",
       "    <tr>\n",
       "      <th>max</th>\n",
       "      <td>1.680000</td>\n",
       "      <td>4.465546e+07</td>\n",
       "      <td>1.893304e+07</td>\n",
       "      <td>1.895648e+07</td>\n",
       "      <td>1.381516e+06</td>\n",
       "      <td>6.736304e+06</td>\n",
       "      <td>5.893642e+06</td>\n",
       "      <td>1.121076e+06</td>\n",
       "      <td>108072.790000</td>\n",
       "      <td>2016.000000</td>\n",
       "    </tr>\n",
       "  </tbody>\n",
       "</table>\n",
       "</div>"
      ],
      "text/plain": [
       "       AveragePrice  Total Volume          4046          4225          4770  \\\n",
       "count   1517.000000  1.517000e+03  1.517000e+03  1.517000e+03  1.517000e+03   \n",
       "mean       1.074990  1.601879e+06  6.464387e+05  6.114375e+05  5.040550e+04   \n",
       "std        0.188891  4.433143e+06  1.947614e+06  1.672906e+06  1.377812e+05   \n",
       "min        0.490000  3.875074e+04  4.677200e+02  1.783770e+03  0.000000e+00   \n",
       "25%        0.980000  1.474700e+05  2.040034e+04  4.147606e+04  9.112500e+02   \n",
       "50%        1.080000  4.027919e+05  8.175117e+04  1.186649e+05  7.688170e+03   \n",
       "75%        1.190000  9.819751e+05  3.775785e+05  4.851503e+05  2.916730e+04   \n",
       "max        1.680000  4.465546e+07  1.893304e+07  1.895648e+07  1.381516e+06   \n",
       "\n",
       "         Total Bags    Small Bags    Large Bags    XLarge Bags         year  \n",
       "count  1.517000e+03  1.517000e+03  1.517000e+03    1517.000000  1517.000000  \n",
       "mean   2.935974e+05  2.487736e+05  4.264205e+04    2181.771074  2015.162821  \n",
       "std    7.579765e+05  6.474765e+05  1.182157e+05    7455.712144     0.369324  \n",
       "min    3.311770e+03  3.311770e+03  0.000000e+00       0.000000  2015.000000  \n",
       "25%    3.620689e+04  2.972722e+04  5.407400e+02       0.000000  2015.000000  \n",
       "50%    7.397906e+04  6.237569e+04  5.044350e+03       0.000000  2015.000000  \n",
       "75%    1.576097e+05  1.461994e+05  2.926767e+04     401.480000  2015.000000  \n",
       "max    6.736304e+06  5.893642e+06  1.121076e+06  108072.790000  2016.000000  "
      ]
     },
     "execution_count": 111,
     "metadata": {},
     "output_type": "execute_result"
    }
   ],
   "source": [
    "df.describe() "
   ]
  },
  {
   "cell_type": "markdown",
   "metadata": {},
   "source": [
    "We can see the mean, standard deviation, count, min, max and IQR values of all the columns"
   ]
  },
  {
   "cell_type": "code",
   "execution_count": 112,
   "metadata": {},
   "outputs": [],
   "source": [
    "# import datetime\n",
    "# df['dates'] = [datetime.datetime.strptime(de,\"%d-%m-%Y\") for de in df['Date']]\n",
    "# dategp = df.groupby('dates').mean()\n",
    "# plt.figure(figsize=(10,5))\n",
    "# dategp['AveragePrice'].plot(x= df.dates)\n"
   ]
  },
  {
   "cell_type": "markdown",
   "metadata": {},
   "source": [
    "We can see that \"type\" column has only one unique value. Here they are only talking about conventional type of Avacados. Therefore we can eliminate this column."
   ]
  },
  {
   "cell_type": "code",
   "execution_count": 113,
   "metadata": {},
   "outputs": [],
   "source": [
    "df.drop([\"type\"],axis=1, inplace=True)"
   ]
  },
  {
   "cell_type": "code",
   "execution_count": 114,
   "metadata": {},
   "outputs": [
    {
     "data": {
      "text/html": [
       "<div>\n",
       "<style scoped>\n",
       "    .dataframe tbody tr th:only-of-type {\n",
       "        vertical-align: middle;\n",
       "    }\n",
       "\n",
       "    .dataframe tbody tr th {\n",
       "        vertical-align: top;\n",
       "    }\n",
       "\n",
       "    .dataframe thead th {\n",
       "        text-align: right;\n",
       "    }\n",
       "</style>\n",
       "<table border=\"1\" class=\"dataframe\">\n",
       "  <thead>\n",
       "    <tr style=\"text-align: right;\">\n",
       "      <th></th>\n",
       "      <th>Date</th>\n",
       "      <th>AveragePrice</th>\n",
       "      <th>Total Volume</th>\n",
       "      <th>4046</th>\n",
       "      <th>4225</th>\n",
       "      <th>4770</th>\n",
       "      <th>Total Bags</th>\n",
       "      <th>Small Bags</th>\n",
       "      <th>Large Bags</th>\n",
       "      <th>XLarge Bags</th>\n",
       "      <th>year</th>\n",
       "      <th>region</th>\n",
       "    </tr>\n",
       "  </thead>\n",
       "  <tbody>\n",
       "    <tr>\n",
       "      <th>0</th>\n",
       "      <td>27-12-2015</td>\n",
       "      <td>1.33</td>\n",
       "      <td>64236.62</td>\n",
       "      <td>1036.74</td>\n",
       "      <td>54454.85</td>\n",
       "      <td>48.16</td>\n",
       "      <td>8696.87</td>\n",
       "      <td>8603.62</td>\n",
       "      <td>93.25</td>\n",
       "      <td>0.0</td>\n",
       "      <td>2015.0</td>\n",
       "      <td>Albany</td>\n",
       "    </tr>\n",
       "    <tr>\n",
       "      <th>1</th>\n",
       "      <td>20-12-2015</td>\n",
       "      <td>1.35</td>\n",
       "      <td>54876.98</td>\n",
       "      <td>674.28</td>\n",
       "      <td>44638.81</td>\n",
       "      <td>58.33</td>\n",
       "      <td>9505.56</td>\n",
       "      <td>9408.07</td>\n",
       "      <td>97.49</td>\n",
       "      <td>0.0</td>\n",
       "      <td>2015.0</td>\n",
       "      <td>Albany</td>\n",
       "    </tr>\n",
       "    <tr>\n",
       "      <th>2</th>\n",
       "      <td>13-12-2015</td>\n",
       "      <td>0.93</td>\n",
       "      <td>118220.22</td>\n",
       "      <td>794.70</td>\n",
       "      <td>109149.67</td>\n",
       "      <td>130.50</td>\n",
       "      <td>8145.35</td>\n",
       "      <td>8042.21</td>\n",
       "      <td>103.14</td>\n",
       "      <td>0.0</td>\n",
       "      <td>2015.0</td>\n",
       "      <td>Albany</td>\n",
       "    </tr>\n",
       "    <tr>\n",
       "      <th>3</th>\n",
       "      <td>06-12-2015</td>\n",
       "      <td>1.08</td>\n",
       "      <td>78992.15</td>\n",
       "      <td>1132.00</td>\n",
       "      <td>71976.41</td>\n",
       "      <td>72.58</td>\n",
       "      <td>5811.16</td>\n",
       "      <td>5677.40</td>\n",
       "      <td>133.76</td>\n",
       "      <td>0.0</td>\n",
       "      <td>2015.0</td>\n",
       "      <td>Albany</td>\n",
       "    </tr>\n",
       "    <tr>\n",
       "      <th>4</th>\n",
       "      <td>29-11-2015</td>\n",
       "      <td>1.28</td>\n",
       "      <td>51039.60</td>\n",
       "      <td>941.48</td>\n",
       "      <td>43838.39</td>\n",
       "      <td>75.78</td>\n",
       "      <td>6183.95</td>\n",
       "      <td>5986.26</td>\n",
       "      <td>197.69</td>\n",
       "      <td>0.0</td>\n",
       "      <td>2015.0</td>\n",
       "      <td>Albany</td>\n",
       "    </tr>\n",
       "  </tbody>\n",
       "</table>\n",
       "</div>"
      ],
      "text/plain": [
       "         Date  AveragePrice  Total Volume     4046       4225    4770  \\\n",
       "0  27-12-2015          1.33      64236.62  1036.74   54454.85   48.16   \n",
       "1  20-12-2015          1.35      54876.98   674.28   44638.81   58.33   \n",
       "2  13-12-2015          0.93     118220.22   794.70  109149.67  130.50   \n",
       "3  06-12-2015          1.08      78992.15  1132.00   71976.41   72.58   \n",
       "4  29-11-2015          1.28      51039.60   941.48   43838.39   75.78   \n",
       "\n",
       "   Total Bags  Small Bags  Large Bags  XLarge Bags    year  region  \n",
       "0     8696.87     8603.62       93.25          0.0  2015.0  Albany  \n",
       "1     9505.56     9408.07       97.49          0.0  2015.0  Albany  \n",
       "2     8145.35     8042.21      103.14          0.0  2015.0  Albany  \n",
       "3     5811.16     5677.40      133.76          0.0  2015.0  Albany  \n",
       "4     6183.95     5986.26      197.69          0.0  2015.0  Albany  "
      ]
     },
     "execution_count": 114,
     "metadata": {},
     "output_type": "execute_result"
    }
   ],
   "source": [
    "df.head()"
   ]
  },
  {
   "cell_type": "code",
   "execution_count": 115,
   "metadata": {},
   "outputs": [
    {
     "data": {
      "text/html": [
       "<div>\n",
       "<style scoped>\n",
       "    .dataframe tbody tr th:only-of-type {\n",
       "        vertical-align: middle;\n",
       "    }\n",
       "\n",
       "    .dataframe tbody tr th {\n",
       "        vertical-align: top;\n",
       "    }\n",
       "\n",
       "    .dataframe thead th {\n",
       "        text-align: right;\n",
       "    }\n",
       "</style>\n",
       "<table border=\"1\" class=\"dataframe\">\n",
       "  <thead>\n",
       "    <tr style=\"text-align: right;\">\n",
       "      <th></th>\n",
       "      <th>AveragePrice</th>\n",
       "    </tr>\n",
       "    <tr>\n",
       "      <th>region</th>\n",
       "      <th></th>\n",
       "    </tr>\n",
       "  </thead>\n",
       "  <tbody>\n",
       "    <tr>\n",
       "      <th>PhoenixTucson</th>\n",
       "      <td>0.659808</td>\n",
       "    </tr>\n",
       "    <tr>\n",
       "      <th>DallasFtWorth</th>\n",
       "      <td>0.755882</td>\n",
       "    </tr>\n",
       "    <tr>\n",
       "      <th>WestTexNewMexico</th>\n",
       "      <td>0.757407</td>\n",
       "    </tr>\n",
       "    <tr>\n",
       "      <th>Houston</th>\n",
       "      <td>0.780690</td>\n",
       "    </tr>\n",
       "    <tr>\n",
       "      <th>SouthCentral</th>\n",
       "      <td>0.818718</td>\n",
       "    </tr>\n",
       "    <tr>\n",
       "      <th>LosAngeles</th>\n",
       "      <td>0.863333</td>\n",
       "    </tr>\n",
       "    <tr>\n",
       "      <th>West</th>\n",
       "      <td>0.940833</td>\n",
       "    </tr>\n",
       "    <tr>\n",
       "      <th>Boise</th>\n",
       "      <td>0.974923</td>\n",
       "    </tr>\n",
       "    <tr>\n",
       "      <th>SanDiego</th>\n",
       "      <td>0.993421</td>\n",
       "    </tr>\n",
       "    <tr>\n",
       "      <th>RichmondNorfolk</th>\n",
       "      <td>1.004762</td>\n",
       "    </tr>\n",
       "    <tr>\n",
       "      <th>TotalUS</th>\n",
       "      <td>1.011600</td>\n",
       "    </tr>\n",
       "    <tr>\n",
       "      <th>Atlanta</th>\n",
       "      <td>1.012037</td>\n",
       "    </tr>\n",
       "    <tr>\n",
       "      <th>Columbus</th>\n",
       "      <td>1.012553</td>\n",
       "    </tr>\n",
       "    <tr>\n",
       "      <th>Nashville</th>\n",
       "      <td>1.028400</td>\n",
       "    </tr>\n",
       "    <tr>\n",
       "      <th>LasVegas</th>\n",
       "      <td>1.041000</td>\n",
       "    </tr>\n",
       "    <tr>\n",
       "      <th>Detroit</th>\n",
       "      <td>1.041250</td>\n",
       "    </tr>\n",
       "    <tr>\n",
       "      <th>Louisville</th>\n",
       "      <td>1.042941</td>\n",
       "    </tr>\n",
       "    <tr>\n",
       "      <th>Portland</th>\n",
       "      <td>1.043667</td>\n",
       "    </tr>\n",
       "    <tr>\n",
       "      <th>Plains</th>\n",
       "      <td>1.051667</td>\n",
       "    </tr>\n",
       "    <tr>\n",
       "      <th>Seattle</th>\n",
       "      <td>1.052222</td>\n",
       "    </tr>\n",
       "    <tr>\n",
       "      <th>California</th>\n",
       "      <td>1.055921</td>\n",
       "    </tr>\n",
       "    <tr>\n",
       "      <th>Tampa</th>\n",
       "      <td>1.068824</td>\n",
       "    </tr>\n",
       "    <tr>\n",
       "      <th>SouthCarolina</th>\n",
       "      <td>1.071250</td>\n",
       "    </tr>\n",
       "    <tr>\n",
       "      <th>Denver</th>\n",
       "      <td>1.080833</td>\n",
       "    </tr>\n",
       "    <tr>\n",
       "      <th>Midsouth</th>\n",
       "      <td>1.081111</td>\n",
       "    </tr>\n",
       "    <tr>\n",
       "      <th>Southeast</th>\n",
       "      <td>1.091111</td>\n",
       "    </tr>\n",
       "    <tr>\n",
       "      <th>Spokane</th>\n",
       "      <td>1.096122</td>\n",
       "    </tr>\n",
       "    <tr>\n",
       "      <th>Roanoke</th>\n",
       "      <td>1.096471</td>\n",
       "    </tr>\n",
       "    <tr>\n",
       "      <th>GreatLakes</th>\n",
       "      <td>1.107222</td>\n",
       "    </tr>\n",
       "    <tr>\n",
       "      <th>NorthernNewEngland</th>\n",
       "      <td>1.111034</td>\n",
       "    </tr>\n",
       "    <tr>\n",
       "      <th>Jacksonville</th>\n",
       "      <td>1.113659</td>\n",
       "    </tr>\n",
       "    <tr>\n",
       "      <th>Indianapolis</th>\n",
       "      <td>1.126250</td>\n",
       "    </tr>\n",
       "    <tr>\n",
       "      <th>Orlando</th>\n",
       "      <td>1.133333</td>\n",
       "    </tr>\n",
       "    <tr>\n",
       "      <th>GrandRapids</th>\n",
       "      <td>1.136957</td>\n",
       "    </tr>\n",
       "    <tr>\n",
       "      <th>SanFrancisco</th>\n",
       "      <td>1.150667</td>\n",
       "    </tr>\n",
       "    <tr>\n",
       "      <th>HarrisburgScranton</th>\n",
       "      <td>1.157368</td>\n",
       "    </tr>\n",
       "    <tr>\n",
       "      <th>BaltimoreWashington</th>\n",
       "      <td>1.160923</td>\n",
       "    </tr>\n",
       "    <tr>\n",
       "      <th>RaleighGreensboro</th>\n",
       "      <td>1.166250</td>\n",
       "    </tr>\n",
       "    <tr>\n",
       "      <th>MiamiFtLauderdale</th>\n",
       "      <td>1.176471</td>\n",
       "    </tr>\n",
       "    <tr>\n",
       "      <th>Pittsburgh</th>\n",
       "      <td>1.178636</td>\n",
       "    </tr>\n",
       "    <tr>\n",
       "      <th>Boston</th>\n",
       "      <td>1.205484</td>\n",
       "    </tr>\n",
       "    <tr>\n",
       "      <th>HartfordSpringfield</th>\n",
       "      <td>1.209231</td>\n",
       "    </tr>\n",
       "    <tr>\n",
       "      <th>Chicago</th>\n",
       "      <td>1.214783</td>\n",
       "    </tr>\n",
       "    <tr>\n",
       "      <th>Northeast</th>\n",
       "      <td>1.236667</td>\n",
       "    </tr>\n",
       "    <tr>\n",
       "      <th>Albany</th>\n",
       "      <td>1.238657</td>\n",
       "    </tr>\n",
       "    <tr>\n",
       "      <th>NewYork</th>\n",
       "      <td>1.248636</td>\n",
       "    </tr>\n",
       "    <tr>\n",
       "      <th>StLouis</th>\n",
       "      <td>1.260000</td>\n",
       "    </tr>\n",
       "    <tr>\n",
       "      <th>Philadelphia</th>\n",
       "      <td>1.293846</td>\n",
       "    </tr>\n",
       "    <tr>\n",
       "      <th>BuffaloRochester</th>\n",
       "      <td>1.301569</td>\n",
       "    </tr>\n",
       "    <tr>\n",
       "      <th>Charlotte</th>\n",
       "      <td>1.311613</td>\n",
       "    </tr>\n",
       "    <tr>\n",
       "      <th>Syracuse</th>\n",
       "      <td>1.347368</td>\n",
       "    </tr>\n",
       "  </tbody>\n",
       "</table>\n",
       "</div>"
      ],
      "text/plain": [
       "                     AveragePrice\n",
       "region                           \n",
       "PhoenixTucson            0.659808\n",
       "DallasFtWorth            0.755882\n",
       "WestTexNewMexico         0.757407\n",
       "Houston                  0.780690\n",
       "SouthCentral             0.818718\n",
       "LosAngeles               0.863333\n",
       "West                     0.940833\n",
       "Boise                    0.974923\n",
       "SanDiego                 0.993421\n",
       "RichmondNorfolk          1.004762\n",
       "TotalUS                  1.011600\n",
       "Atlanta                  1.012037\n",
       "Columbus                 1.012553\n",
       "Nashville                1.028400\n",
       "LasVegas                 1.041000\n",
       "Detroit                  1.041250\n",
       "Louisville               1.042941\n",
       "Portland                 1.043667\n",
       "Plains                   1.051667\n",
       "Seattle                  1.052222\n",
       "California               1.055921\n",
       "Tampa                    1.068824\n",
       "SouthCarolina            1.071250\n",
       "Denver                   1.080833\n",
       "Midsouth                 1.081111\n",
       "Southeast                1.091111\n",
       "Spokane                  1.096122\n",
       "Roanoke                  1.096471\n",
       "GreatLakes               1.107222\n",
       "NorthernNewEngland       1.111034\n",
       "Jacksonville             1.113659\n",
       "Indianapolis             1.126250\n",
       "Orlando                  1.133333\n",
       "GrandRapids              1.136957\n",
       "SanFrancisco             1.150667\n",
       "HarrisburgScranton       1.157368\n",
       "BaltimoreWashington      1.160923\n",
       "RaleighGreensboro        1.166250\n",
       "MiamiFtLauderdale        1.176471\n",
       "Pittsburgh               1.178636\n",
       "Boston                   1.205484\n",
       "HartfordSpringfield      1.209231\n",
       "Chicago                  1.214783\n",
       "Northeast                1.236667\n",
       "Albany                   1.238657\n",
       "NewYork                  1.248636\n",
       "StLouis                  1.260000\n",
       "Philadelphia             1.293846\n",
       "BuffaloRochester         1.301569\n",
       "Charlotte                1.311613\n",
       "Syracuse                 1.347368"
      ]
     },
     "execution_count": 115,
     "metadata": {},
     "output_type": "execute_result"
    }
   ],
   "source": [
    "df1=pd.pivot_table(df, index=['region'],values=['AveragePrice'],aggfunc=np.mean)\n",
    "df1.sort_values('AveragePrice') \n",
    "# sorting AveragePrice based on region in accending order"
   ]
  },
  {
   "cell_type": "markdown",
   "metadata": {},
   "source": [
    "We can see that Syracuse has the highest Average price and PhoenixTucson has the lowest Average price"
   ]
  },
  {
   "cell_type": "code",
   "execution_count": 116,
   "metadata": {},
   "outputs": [],
   "source": [
    "# df['month'] = pd.DatetimeIndex(df['Date']).month\n"
   ]
  },
  {
   "cell_type": "code",
   "execution_count": 117,
   "metadata": {},
   "outputs": [
    {
     "data": {
      "text/plain": [
       "array([2015., 2016.])"
      ]
     },
     "execution_count": 117,
     "metadata": {},
     "output_type": "execute_result"
    }
   ],
   "source": [
    "df['year'].unique() # here we can see that the dataset contains data of '2015-2016'"
   ]
  },
  {
   "cell_type": "code",
   "execution_count": 118,
   "metadata": {},
   "outputs": [],
   "source": [
    "# grp=df.groupby('region').mean() # grouping data regionwise\n",
    "# grp.head()"
   ]
  },
  {
   "cell_type": "code",
   "execution_count": 119,
   "metadata": {},
   "outputs": [
    {
     "data": {
      "text/html": [
       "<div>\n",
       "<style scoped>\n",
       "    .dataframe tbody tr th:only-of-type {\n",
       "        vertical-align: middle;\n",
       "    }\n",
       "\n",
       "    .dataframe tbody tr th {\n",
       "        vertical-align: top;\n",
       "    }\n",
       "\n",
       "    .dataframe thead th {\n",
       "        text-align: right;\n",
       "    }\n",
       "</style>\n",
       "<table border=\"1\" class=\"dataframe\">\n",
       "  <thead>\n",
       "    <tr style=\"text-align: right;\">\n",
       "      <th></th>\n",
       "      <th>AveragePrice</th>\n",
       "      <th>Total Volume</th>\n",
       "      <th>4046</th>\n",
       "      <th>4225</th>\n",
       "      <th>4770</th>\n",
       "      <th>Total Bags</th>\n",
       "      <th>Small Bags</th>\n",
       "      <th>Large Bags</th>\n",
       "      <th>XLarge Bags</th>\n",
       "      <th>year</th>\n",
       "    </tr>\n",
       "  </thead>\n",
       "  <tbody>\n",
       "    <tr>\n",
       "      <th>AveragePrice</th>\n",
       "      <td>1.000000</td>\n",
       "      <td>-0.140470</td>\n",
       "      <td>-0.190096</td>\n",
       "      <td>-0.092084</td>\n",
       "      <td>-0.100567</td>\n",
       "      <td>-0.111597</td>\n",
       "      <td>-0.097682</td>\n",
       "      <td>-0.177480</td>\n",
       "      <td>-0.048284</td>\n",
       "      <td>0.178683</td>\n",
       "    </tr>\n",
       "    <tr>\n",
       "      <th>Total Volume</th>\n",
       "      <td>-0.140470</td>\n",
       "      <td>1.000000</td>\n",
       "      <td>0.985568</td>\n",
       "      <td>0.987154</td>\n",
       "      <td>0.934347</td>\n",
       "      <td>0.967689</td>\n",
       "      <td>0.960642</td>\n",
       "      <td>0.910226</td>\n",
       "      <td>0.521717</td>\n",
       "      <td>-0.004189</td>\n",
       "    </tr>\n",
       "    <tr>\n",
       "      <th>4046</th>\n",
       "      <td>-0.190096</td>\n",
       "      <td>0.985568</td>\n",
       "      <td>1.000000</td>\n",
       "      <td>0.951952</td>\n",
       "      <td>0.898570</td>\n",
       "      <td>0.930395</td>\n",
       "      <td>0.922278</td>\n",
       "      <td>0.884229</td>\n",
       "      <td>0.474063</td>\n",
       "      <td>-0.040439</td>\n",
       "    </tr>\n",
       "    <tr>\n",
       "      <th>4225</th>\n",
       "      <td>-0.092084</td>\n",
       "      <td>0.987154</td>\n",
       "      <td>0.951952</td>\n",
       "      <td>1.000000</td>\n",
       "      <td>0.927757</td>\n",
       "      <td>0.951779</td>\n",
       "      <td>0.943988</td>\n",
       "      <td>0.900496</td>\n",
       "      <td>0.504718</td>\n",
       "      <td>-0.007254</td>\n",
       "    </tr>\n",
       "    <tr>\n",
       "      <th>4770</th>\n",
       "      <td>-0.100567</td>\n",
       "      <td>0.934347</td>\n",
       "      <td>0.898570</td>\n",
       "      <td>0.927757</td>\n",
       "      <td>1.000000</td>\n",
       "      <td>0.926405</td>\n",
       "      <td>0.923607</td>\n",
       "      <td>0.840523</td>\n",
       "      <td>0.646053</td>\n",
       "      <td>0.029222</td>\n",
       "    </tr>\n",
       "    <tr>\n",
       "      <th>Total Bags</th>\n",
       "      <td>-0.111597</td>\n",
       "      <td>0.967689</td>\n",
       "      <td>0.930395</td>\n",
       "      <td>0.951779</td>\n",
       "      <td>0.926405</td>\n",
       "      <td>1.000000</td>\n",
       "      <td>0.997341</td>\n",
       "      <td>0.911336</td>\n",
       "      <td>0.601856</td>\n",
       "      <td>0.090108</td>\n",
       "    </tr>\n",
       "    <tr>\n",
       "      <th>Small Bags</th>\n",
       "      <td>-0.097682</td>\n",
       "      <td>0.960642</td>\n",
       "      <td>0.922278</td>\n",
       "      <td>0.943988</td>\n",
       "      <td>0.923607</td>\n",
       "      <td>0.997341</td>\n",
       "      <td>1.000000</td>\n",
       "      <td>0.879131</td>\n",
       "      <td>0.611300</td>\n",
       "      <td>0.106382</td>\n",
       "    </tr>\n",
       "    <tr>\n",
       "      <th>Large Bags</th>\n",
       "      <td>-0.177480</td>\n",
       "      <td>0.910226</td>\n",
       "      <td>0.884229</td>\n",
       "      <td>0.900496</td>\n",
       "      <td>0.840523</td>\n",
       "      <td>0.911336</td>\n",
       "      <td>0.879131</td>\n",
       "      <td>1.000000</td>\n",
       "      <td>0.447779</td>\n",
       "      <td>-0.018678</td>\n",
       "    </tr>\n",
       "    <tr>\n",
       "      <th>XLarge Bags</th>\n",
       "      <td>-0.048284</td>\n",
       "      <td>0.521717</td>\n",
       "      <td>0.474063</td>\n",
       "      <td>0.504718</td>\n",
       "      <td>0.646053</td>\n",
       "      <td>0.601856</td>\n",
       "      <td>0.611300</td>\n",
       "      <td>0.447779</td>\n",
       "      <td>1.000000</td>\n",
       "      <td>0.218342</td>\n",
       "    </tr>\n",
       "    <tr>\n",
       "      <th>year</th>\n",
       "      <td>0.178683</td>\n",
       "      <td>-0.004189</td>\n",
       "      <td>-0.040439</td>\n",
       "      <td>-0.007254</td>\n",
       "      <td>0.029222</td>\n",
       "      <td>0.090108</td>\n",
       "      <td>0.106382</td>\n",
       "      <td>-0.018678</td>\n",
       "      <td>0.218342</td>\n",
       "      <td>1.000000</td>\n",
       "    </tr>\n",
       "  </tbody>\n",
       "</table>\n",
       "</div>"
      ],
      "text/plain": [
       "              AveragePrice  Total Volume      4046      4225      4770  \\\n",
       "AveragePrice      1.000000     -0.140470 -0.190096 -0.092084 -0.100567   \n",
       "Total Volume     -0.140470      1.000000  0.985568  0.987154  0.934347   \n",
       "4046             -0.190096      0.985568  1.000000  0.951952  0.898570   \n",
       "4225             -0.092084      0.987154  0.951952  1.000000  0.927757   \n",
       "4770             -0.100567      0.934347  0.898570  0.927757  1.000000   \n",
       "Total Bags       -0.111597      0.967689  0.930395  0.951779  0.926405   \n",
       "Small Bags       -0.097682      0.960642  0.922278  0.943988  0.923607   \n",
       "Large Bags       -0.177480      0.910226  0.884229  0.900496  0.840523   \n",
       "XLarge Bags      -0.048284      0.521717  0.474063  0.504718  0.646053   \n",
       "year              0.178683     -0.004189 -0.040439 -0.007254  0.029222   \n",
       "\n",
       "              Total Bags  Small Bags  Large Bags  XLarge Bags      year  \n",
       "AveragePrice   -0.111597   -0.097682   -0.177480    -0.048284  0.178683  \n",
       "Total Volume    0.967689    0.960642    0.910226     0.521717 -0.004189  \n",
       "4046            0.930395    0.922278    0.884229     0.474063 -0.040439  \n",
       "4225            0.951779    0.943988    0.900496     0.504718 -0.007254  \n",
       "4770            0.926405    0.923607    0.840523     0.646053  0.029222  \n",
       "Total Bags      1.000000    0.997341    0.911336     0.601856  0.090108  \n",
       "Small Bags      0.997341    1.000000    0.879131     0.611300  0.106382  \n",
       "Large Bags      0.911336    0.879131    1.000000     0.447779 -0.018678  \n",
       "XLarge Bags     0.601856    0.611300    0.447779     1.000000  0.218342  \n",
       "year            0.090108    0.106382   -0.018678     0.218342  1.000000  "
      ]
     },
     "execution_count": 119,
     "metadata": {},
     "output_type": "execute_result"
    }
   ],
   "source": [
    "df.corr() # checking correlation"
   ]
  },
  {
   "cell_type": "markdown",
   "metadata": {},
   "source": [
    "We can see that there is high correlation between independent variables. This is multicollinearity problem."
   ]
  },
  {
   "cell_type": "code",
   "execution_count": 120,
   "metadata": {},
   "outputs": [
    {
     "data": {
      "text/plain": [
       "AveragePrice    1.000000\n",
       "year            0.178683\n",
       "XLarge Bags    -0.048284\n",
       "4225           -0.092084\n",
       "Small Bags     -0.097682\n",
       "4770           -0.100567\n",
       "Total Bags     -0.111597\n",
       "Total Volume   -0.140470\n",
       "Large Bags     -0.177480\n",
       "4046           -0.190096\n",
       "Name: AveragePrice, dtype: float64"
      ]
     },
     "execution_count": 120,
     "metadata": {},
     "output_type": "execute_result"
    }
   ],
   "source": [
    "df.corr()[\"AveragePrice\"].sort_values(ascending=False) \n",
    "#identifying correlation of independent variables with target varible"
   ]
  },
  {
   "cell_type": "markdown",
   "metadata": {},
   "source": [
    "# Data Modelling and Prediction"
   ]
  },
  {
   "cell_type": "code",
   "execution_count": 121,
   "metadata": {},
   "outputs": [],
   "source": [
    "from sklearn.ensemble import RandomForestRegressor"
   ]
  },
  {
   "cell_type": "code",
   "execution_count": 122,
   "metadata": {},
   "outputs": [
    {
     "data": {
      "text/html": [
       "<div>\n",
       "<style scoped>\n",
       "    .dataframe tbody tr th:only-of-type {\n",
       "        vertical-align: middle;\n",
       "    }\n",
       "\n",
       "    .dataframe tbody tr th {\n",
       "        vertical-align: top;\n",
       "    }\n",
       "\n",
       "    .dataframe thead th {\n",
       "        text-align: right;\n",
       "    }\n",
       "</style>\n",
       "<table border=\"1\" class=\"dataframe\">\n",
       "  <thead>\n",
       "    <tr style=\"text-align: right;\">\n",
       "      <th></th>\n",
       "      <th>Date</th>\n",
       "      <th>AveragePrice</th>\n",
       "      <th>Total Volume</th>\n",
       "      <th>4046</th>\n",
       "      <th>4225</th>\n",
       "      <th>4770</th>\n",
       "      <th>Total Bags</th>\n",
       "      <th>Small Bags</th>\n",
       "      <th>Large Bags</th>\n",
       "      <th>XLarge Bags</th>\n",
       "      <th>year</th>\n",
       "      <th>region</th>\n",
       "    </tr>\n",
       "  </thead>\n",
       "  <tbody>\n",
       "    <tr>\n",
       "      <th>0</th>\n",
       "      <td>27-12-2015</td>\n",
       "      <td>1.33</td>\n",
       "      <td>64236.62</td>\n",
       "      <td>1036.74</td>\n",
       "      <td>54454.85</td>\n",
       "      <td>48.16</td>\n",
       "      <td>8696.87</td>\n",
       "      <td>8603.62</td>\n",
       "      <td>93.25</td>\n",
       "      <td>0.0</td>\n",
       "      <td>2015.0</td>\n",
       "      <td>Albany</td>\n",
       "    </tr>\n",
       "    <tr>\n",
       "      <th>1</th>\n",
       "      <td>20-12-2015</td>\n",
       "      <td>1.35</td>\n",
       "      <td>54876.98</td>\n",
       "      <td>674.28</td>\n",
       "      <td>44638.81</td>\n",
       "      <td>58.33</td>\n",
       "      <td>9505.56</td>\n",
       "      <td>9408.07</td>\n",
       "      <td>97.49</td>\n",
       "      <td>0.0</td>\n",
       "      <td>2015.0</td>\n",
       "      <td>Albany</td>\n",
       "    </tr>\n",
       "    <tr>\n",
       "      <th>2</th>\n",
       "      <td>13-12-2015</td>\n",
       "      <td>0.93</td>\n",
       "      <td>118220.22</td>\n",
       "      <td>794.70</td>\n",
       "      <td>109149.67</td>\n",
       "      <td>130.50</td>\n",
       "      <td>8145.35</td>\n",
       "      <td>8042.21</td>\n",
       "      <td>103.14</td>\n",
       "      <td>0.0</td>\n",
       "      <td>2015.0</td>\n",
       "      <td>Albany</td>\n",
       "    </tr>\n",
       "    <tr>\n",
       "      <th>3</th>\n",
       "      <td>06-12-2015</td>\n",
       "      <td>1.08</td>\n",
       "      <td>78992.15</td>\n",
       "      <td>1132.00</td>\n",
       "      <td>71976.41</td>\n",
       "      <td>72.58</td>\n",
       "      <td>5811.16</td>\n",
       "      <td>5677.40</td>\n",
       "      <td>133.76</td>\n",
       "      <td>0.0</td>\n",
       "      <td>2015.0</td>\n",
       "      <td>Albany</td>\n",
       "    </tr>\n",
       "    <tr>\n",
       "      <th>4</th>\n",
       "      <td>29-11-2015</td>\n",
       "      <td>1.28</td>\n",
       "      <td>51039.60</td>\n",
       "      <td>941.48</td>\n",
       "      <td>43838.39</td>\n",
       "      <td>75.78</td>\n",
       "      <td>6183.95</td>\n",
       "      <td>5986.26</td>\n",
       "      <td>197.69</td>\n",
       "      <td>0.0</td>\n",
       "      <td>2015.0</td>\n",
       "      <td>Albany</td>\n",
       "    </tr>\n",
       "  </tbody>\n",
       "</table>\n",
       "</div>"
      ],
      "text/plain": [
       "         Date  AveragePrice  Total Volume     4046       4225    4770  \\\n",
       "0  27-12-2015          1.33      64236.62  1036.74   54454.85   48.16   \n",
       "1  20-12-2015          1.35      54876.98   674.28   44638.81   58.33   \n",
       "2  13-12-2015          0.93     118220.22   794.70  109149.67  130.50   \n",
       "3  06-12-2015          1.08      78992.15  1132.00   71976.41   72.58   \n",
       "4  29-11-2015          1.28      51039.60   941.48   43838.39   75.78   \n",
       "\n",
       "   Total Bags  Small Bags  Large Bags  XLarge Bags    year  region  \n",
       "0     8696.87     8603.62       93.25          0.0  2015.0  Albany  \n",
       "1     9505.56     9408.07       97.49          0.0  2015.0  Albany  \n",
       "2     8145.35     8042.21      103.14          0.0  2015.0  Albany  \n",
       "3     5811.16     5677.40      133.76          0.0  2015.0  Albany  \n",
       "4     6183.95     5986.26      197.69          0.0  2015.0  Albany  "
      ]
     },
     "execution_count": 122,
     "metadata": {},
     "output_type": "execute_result"
    }
   ],
   "source": [
    "df.head()"
   ]
  },
  {
   "cell_type": "code",
   "execution_count": 123,
   "metadata": {},
   "outputs": [
    {
     "data": {
      "text/plain": [
       "Index(['Date', 'AveragePrice', 'Total Volume', '4046', '4225', '4770',\n",
       "       'Total Bags', 'Small Bags', 'Large Bags', 'XLarge Bags', 'year',\n",
       "       'region'],\n",
       "      dtype='object')"
      ]
     },
     "execution_count": 123,
     "metadata": {},
     "output_type": "execute_result"
    }
   ],
   "source": [
    "df.columns # all columns"
   ]
  },
  {
   "cell_type": "markdown",
   "metadata": {},
   "source": [
    "# Splitting of data into Independent and Target variables"
   ]
  },
  {
   "cell_type": "code",
   "execution_count": 124,
   "metadata": {},
   "outputs": [],
   "source": [
    "df_for_model = df[['Total Volume', '4046', '4225', '4770','Total Bags', 'Small Bags', 'Large Bags', 'XLarge Bags', 'year','region']]"
   ]
  },
  {
   "cell_type": "code",
   "execution_count": 125,
   "metadata": {},
   "outputs": [
    {
     "data": {
      "text/html": [
       "<div>\n",
       "<style scoped>\n",
       "    .dataframe tbody tr th:only-of-type {\n",
       "        vertical-align: middle;\n",
       "    }\n",
       "\n",
       "    .dataframe tbody tr th {\n",
       "        vertical-align: top;\n",
       "    }\n",
       "\n",
       "    .dataframe thead th {\n",
       "        text-align: right;\n",
       "    }\n",
       "</style>\n",
       "<table border=\"1\" class=\"dataframe\">\n",
       "  <thead>\n",
       "    <tr style=\"text-align: right;\">\n",
       "      <th></th>\n",
       "      <th>Total Volume</th>\n",
       "      <th>4046</th>\n",
       "      <th>4225</th>\n",
       "      <th>4770</th>\n",
       "      <th>Total Bags</th>\n",
       "      <th>Small Bags</th>\n",
       "      <th>Large Bags</th>\n",
       "      <th>XLarge Bags</th>\n",
       "      <th>year</th>\n",
       "      <th>region</th>\n",
       "    </tr>\n",
       "  </thead>\n",
       "  <tbody>\n",
       "    <tr>\n",
       "      <th>0</th>\n",
       "      <td>64236.62</td>\n",
       "      <td>1036.74</td>\n",
       "      <td>54454.85</td>\n",
       "      <td>48.16</td>\n",
       "      <td>8696.87</td>\n",
       "      <td>8603.62</td>\n",
       "      <td>93.25</td>\n",
       "      <td>0.0</td>\n",
       "      <td>2015.0</td>\n",
       "      <td>Albany</td>\n",
       "    </tr>\n",
       "    <tr>\n",
       "      <th>1</th>\n",
       "      <td>54876.98</td>\n",
       "      <td>674.28</td>\n",
       "      <td>44638.81</td>\n",
       "      <td>58.33</td>\n",
       "      <td>9505.56</td>\n",
       "      <td>9408.07</td>\n",
       "      <td>97.49</td>\n",
       "      <td>0.0</td>\n",
       "      <td>2015.0</td>\n",
       "      <td>Albany</td>\n",
       "    </tr>\n",
       "    <tr>\n",
       "      <th>2</th>\n",
       "      <td>118220.22</td>\n",
       "      <td>794.70</td>\n",
       "      <td>109149.67</td>\n",
       "      <td>130.50</td>\n",
       "      <td>8145.35</td>\n",
       "      <td>8042.21</td>\n",
       "      <td>103.14</td>\n",
       "      <td>0.0</td>\n",
       "      <td>2015.0</td>\n",
       "      <td>Albany</td>\n",
       "    </tr>\n",
       "    <tr>\n",
       "      <th>3</th>\n",
       "      <td>78992.15</td>\n",
       "      <td>1132.00</td>\n",
       "      <td>71976.41</td>\n",
       "      <td>72.58</td>\n",
       "      <td>5811.16</td>\n",
       "      <td>5677.40</td>\n",
       "      <td>133.76</td>\n",
       "      <td>0.0</td>\n",
       "      <td>2015.0</td>\n",
       "      <td>Albany</td>\n",
       "    </tr>\n",
       "    <tr>\n",
       "      <th>4</th>\n",
       "      <td>51039.60</td>\n",
       "      <td>941.48</td>\n",
       "      <td>43838.39</td>\n",
       "      <td>75.78</td>\n",
       "      <td>6183.95</td>\n",
       "      <td>5986.26</td>\n",
       "      <td>197.69</td>\n",
       "      <td>0.0</td>\n",
       "      <td>2015.0</td>\n",
       "      <td>Albany</td>\n",
       "    </tr>\n",
       "  </tbody>\n",
       "</table>\n",
       "</div>"
      ],
      "text/plain": [
       "   Total Volume     4046       4225    4770  Total Bags  Small Bags  \\\n",
       "0      64236.62  1036.74   54454.85   48.16     8696.87     8603.62   \n",
       "1      54876.98   674.28   44638.81   58.33     9505.56     9408.07   \n",
       "2     118220.22   794.70  109149.67  130.50     8145.35     8042.21   \n",
       "3      78992.15  1132.00   71976.41   72.58     5811.16     5677.40   \n",
       "4      51039.60   941.48   43838.39   75.78     6183.95     5986.26   \n",
       "\n",
       "   Large Bags  XLarge Bags    year  region  \n",
       "0       93.25          0.0  2015.0  Albany  \n",
       "1       97.49          0.0  2015.0  Albany  \n",
       "2      103.14          0.0  2015.0  Albany  \n",
       "3      133.76          0.0  2015.0  Albany  \n",
       "4      197.69          0.0  2015.0  Albany  "
      ]
     },
     "execution_count": 125,
     "metadata": {},
     "output_type": "execute_result"
    }
   ],
   "source": [
    "df_for_model.head()"
   ]
  },
  {
   "cell_type": "code",
   "execution_count": 126,
   "metadata": {},
   "outputs": [
    {
     "data": {
      "text/plain": [
       "Total Volume    float64\n",
       "4046            float64\n",
       "4225            float64\n",
       "4770            float64\n",
       "Total Bags      float64\n",
       "Small Bags      float64\n",
       "Large Bags      float64\n",
       "XLarge Bags     float64\n",
       "year            float64\n",
       "region           object\n",
       "dtype: object"
      ]
     },
     "execution_count": 126,
     "metadata": {},
     "output_type": "execute_result"
    }
   ],
   "source": [
    "df_for_model.dtypes"
   ]
  },
  {
   "cell_type": "markdown",
   "metadata": {},
   "source": [
    "We can see that region is object type variable. Converting categorical variables to numerical"
   ]
  },
  {
   "cell_type": "code",
   "execution_count": 127,
   "metadata": {},
   "outputs": [],
   "source": [
    "from sklearn.preprocessing import LabelEncoder"
   ]
  },
  {
   "cell_type": "code",
   "execution_count": 128,
   "metadata": {},
   "outputs": [],
   "source": [
    "label = LabelEncoder()"
   ]
  },
  {
   "cell_type": "code",
   "execution_count": 129,
   "metadata": {},
   "outputs": [],
   "source": [
    "df_for_model['region']=label.fit_transform(df_for_model['region'])"
   ]
  },
  {
   "cell_type": "code",
   "execution_count": 130,
   "metadata": {},
   "outputs": [],
   "source": [
    "tar_model = df[['AveragePrice']] "
   ]
  },
  {
   "cell_type": "code",
   "execution_count": 131,
   "metadata": {},
   "outputs": [],
   "source": [
    "from sklearn.model_selection import train_test_split"
   ]
  },
  {
   "cell_type": "code",
   "execution_count": 132,
   "metadata": {},
   "outputs": [],
   "source": [
    "# splitting data into training and testing \n",
    "ind_train, ind_test, tar_train, tar_test = train_test_split(df_for_model, tar_model, test_size=0.2, random_state=42)"
   ]
  },
  {
   "cell_type": "code",
   "execution_count": 133,
   "metadata": {},
   "outputs": [],
   "source": [
    "model =  RandomForestRegressor(random_state = 42)"
   ]
  },
  {
   "cell_type": "code",
   "execution_count": 134,
   "metadata": {},
   "outputs": [
    {
     "data": {
      "text/plain": [
       "(1213, 304, 1213, 304)"
      ]
     },
     "execution_count": 134,
     "metadata": {},
     "output_type": "execute_result"
    }
   ],
   "source": [
    "len(ind_train),len(ind_test),len( tar_train),len(tar_test)"
   ]
  },
  {
   "cell_type": "code",
   "execution_count": 135,
   "metadata": {},
   "outputs": [
    {
     "data": {
      "text/plain": [
       "RandomForestRegressor(bootstrap=True, ccp_alpha=0.0, criterion='mse',\n",
       "                      max_depth=None, max_features='auto', max_leaf_nodes=None,\n",
       "                      max_samples=None, min_impurity_decrease=0.0,\n",
       "                      min_impurity_split=None, min_samples_leaf=1,\n",
       "                      min_samples_split=2, min_weight_fraction_leaf=0.0,\n",
       "                      n_estimators=100, n_jobs=None, oob_score=False,\n",
       "                      random_state=42, verbose=0, warm_start=False)"
      ]
     },
     "execution_count": 135,
     "metadata": {},
     "output_type": "execute_result"
    }
   ],
   "source": [
    "model.fit(ind_train,tar_train)"
   ]
  },
  {
   "cell_type": "code",
   "execution_count": 136,
   "metadata": {},
   "outputs": [],
   "source": [
    "train_predict = model.predict(ind_train)"
   ]
  },
  {
   "cell_type": "code",
   "execution_count": 137,
   "metadata": {},
   "outputs": [],
   "source": [
    "test_predict = model.predict(ind_test)"
   ]
  },
  {
   "cell_type": "code",
   "execution_count": 138,
   "metadata": {},
   "outputs": [
    {
     "name": "stdout",
     "output_type": "stream",
     "text": [
      "RMSE : 0.031110706374380848\n",
      "RMSE : 0.07446774867085265\n"
     ]
    }
   ],
   "source": [
    "from sklearn.metrics import r2_score,mean_squared_error\n",
    "print(\"RMSE :\", np.sqrt(mean_squared_error(tar_train, train_predict)))\n",
    "print(\"RMSE :\", np.sqrt(mean_squared_error(tar_test, test_predict)))"
   ]
  },
  {
   "cell_type": "code",
   "execution_count": 139,
   "metadata": {},
   "outputs": [
    {
     "name": "stdout",
     "output_type": "stream",
     "text": [
      "Train R^2:  0.9729396973635782\n",
      "Test R^2:  0.8419773945437834\n"
     ]
    }
   ],
   "source": [
    "print(\"Train R^2: \", r2_score(tar_train, train_predict))\n",
    "print(\"Test R^2: \", r2_score(tar_test, test_predict))"
   ]
  },
  {
   "cell_type": "code",
   "execution_count": 140,
   "metadata": {},
   "outputs": [],
   "source": [
    "from sklearn.model_selection import cross_val_score\n",
    "# function to get cross validation scores\n",
    "def get_cv_scores(model):\n",
    "    scores = cross_val_score(model,\n",
    "                             ind_train,\n",
    "                             tar_train,\n",
    "                             cv=5,\n",
    "                             scoring='r2')\n",
    "    \n",
    "    print('CV Mean: ', np.mean(scores))\n",
    "    print('STD: ', np.std(scores))\n",
    "    print('\\n')"
   ]
  },
  {
   "cell_type": "code",
   "execution_count": 141,
   "metadata": {},
   "outputs": [
    {
     "name": "stdout",
     "output_type": "stream",
     "text": [
      "CV Mean:  0.7592006757453104\n",
      "STD:  0.03906957450921192\n",
      "\n",
      "\n"
     ]
    }
   ],
   "source": [
    "get_cv_scores(model)"
   ]
  },
  {
   "cell_type": "markdown",
   "metadata": {},
   "source": [
    "We can see that the model is performing well. Therefore we can save the model into obj file"
   ]
  },
  {
   "cell_type": "code",
   "execution_count": 142,
   "metadata": {},
   "outputs": [
    {
     "name": "stdout",
     "output_type": "stream",
     "text": [
      "{'criterion': 'mse', 'max_features': 'log2'}\n"
     ]
    }
   ],
   "source": [
    "from sklearn.ensemble import RandomForestRegressor\n",
    "\n",
    "parameters={'criterion':['mse','mae'],'max_features': ['auto','sqrt','log2']}\n",
    "rf=RandomForestRegressor()\n",
    "clf=GridSearchCV(rf,parameters)\n",
    "clf.fit(ind_train,tar_train)\n",
    "print(clf.best_params_)\n",
    "#best parameters"
   ]
  },
  {
   "cell_type": "code",
   "execution_count": 143,
   "metadata": {},
   "outputs": [
    {
     "name": "stdout",
     "output_type": "stream",
     "text": [
      "R2 score: 84.41449165085965\n"
     ]
    }
   ],
   "source": [
    "rf=RandomForestRegressor()\n",
    "rf.fit(ind_train,tar_train)\n",
    "pred_decision=rf.predict(ind_test)\n",
    "\n",
    "rfs=r2_score(tar_test,pred_decision)\n",
    "print(\"R2 score:\",rfs*100)\n",
    "\n"
   ]
  },
  {
   "cell_type": "markdown",
   "metadata": {},
   "source": [
    "We can see the model is performing well. therefore we can save the model"
   ]
  },
  {
   "cell_type": "code",
   "execution_count": 144,
   "metadata": {},
   "outputs": [
    {
     "data": {
      "text/plain": [
       "['Avacado.obj']"
      ]
     },
     "execution_count": 144,
     "metadata": {},
     "output_type": "execute_result"
    }
   ],
   "source": [
    "import joblib\n",
    "joblib.dump(rf,'Avacado.obj') #save the model as object file"
   ]
  },
  {
   "cell_type": "code",
   "execution_count": null,
   "metadata": {},
   "outputs": [],
   "source": []
  }
 ],
 "metadata": {
  "kernelspec": {
   "display_name": "Python 3",
   "language": "python",
   "name": "python3"
  },
  "language_info": {
   "codemirror_mode": {
    "name": "ipython",
    "version": 3
   },
   "file_extension": ".py",
   "mimetype": "text/x-python",
   "name": "python",
   "nbconvert_exporter": "python",
   "pygments_lexer": "ipython3",
   "version": "3.7.6"
  }
 },
 "nbformat": 4,
 "nbformat_minor": 4
}
