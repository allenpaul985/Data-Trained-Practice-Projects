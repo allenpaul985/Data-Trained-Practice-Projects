{
 "cells": [
  {
   "cell_type": "code",
   "execution_count": 1,
   "metadata": {},
   "outputs": [],
   "source": [
    "import pandas as pd\n",
    "import numpy as np\n",
    "import matplotlib.pyplot as plt\n",
    "import seaborn as sns\n",
    "import joblib\n",
    "import warnings\n",
    "warnings.filterwarnings('ignore')"
   ]
  },
  {
   "cell_type": "code",
   "execution_count": 2,
   "metadata": {},
   "outputs": [],
   "source": [
    "dr_train=pd.read_csv(\"Final_Train.csv\")\n",
    "dr_test = pd.read_csv(\"Final_Test.csv\")\n",
    "#importing the train and test file"
   ]
  },
  {
   "cell_type": "markdown",
   "metadata": {},
   "source": [
    "# Exploratory Data Analysis"
   ]
  },
  {
   "cell_type": "code",
   "execution_count": 3,
   "metadata": {},
   "outputs": [
    {
     "data": {
      "text/html": [
       "<div>\n",
       "<style scoped>\n",
       "    .dataframe tbody tr th:only-of-type {\n",
       "        vertical-align: middle;\n",
       "    }\n",
       "\n",
       "    .dataframe tbody tr th {\n",
       "        vertical-align: top;\n",
       "    }\n",
       "\n",
       "    .dataframe thead th {\n",
       "        text-align: right;\n",
       "    }\n",
       "</style>\n",
       "<table border=\"1\" class=\"dataframe\">\n",
       "  <thead>\n",
       "    <tr style=\"text-align: right;\">\n",
       "      <th></th>\n",
       "      <th>Qualification</th>\n",
       "      <th>Experience</th>\n",
       "      <th>Rating</th>\n",
       "      <th>Place</th>\n",
       "      <th>Profile</th>\n",
       "      <th>Miscellaneous_Info</th>\n",
       "      <th>Fees</th>\n",
       "    </tr>\n",
       "  </thead>\n",
       "  <tbody>\n",
       "    <tr>\n",
       "      <th>0</th>\n",
       "      <td>BHMS, MD - Homeopathy</td>\n",
       "      <td>24 years experience</td>\n",
       "      <td>100%</td>\n",
       "      <td>Kakkanad, Ernakulam</td>\n",
       "      <td>Homeopath</td>\n",
       "      <td>100% 16 Feedback Kakkanad, Ernakulam</td>\n",
       "      <td>100</td>\n",
       "    </tr>\n",
       "    <tr>\n",
       "      <th>1</th>\n",
       "      <td>BAMS, MD - Ayurveda Medicine</td>\n",
       "      <td>12 years experience</td>\n",
       "      <td>98%</td>\n",
       "      <td>Whitefield, Bangalore</td>\n",
       "      <td>Ayurveda</td>\n",
       "      <td>98% 76 Feedback Whitefield, Bangalore</td>\n",
       "      <td>350</td>\n",
       "    </tr>\n",
       "    <tr>\n",
       "      <th>2</th>\n",
       "      <td>MBBS, MS - Otorhinolaryngology</td>\n",
       "      <td>9 years experience</td>\n",
       "      <td>NaN</td>\n",
       "      <td>Mathikere - BEL, Bangalore</td>\n",
       "      <td>ENT Specialist</td>\n",
       "      <td>NaN</td>\n",
       "      <td>300</td>\n",
       "    </tr>\n",
       "    <tr>\n",
       "      <th>3</th>\n",
       "      <td>BSc - Zoology, BAMS</td>\n",
       "      <td>12 years experience</td>\n",
       "      <td>NaN</td>\n",
       "      <td>Bannerghatta Road, Bangalore</td>\n",
       "      <td>Ayurveda</td>\n",
       "      <td>Bannerghatta Road, Bangalore ₹250 Available on...</td>\n",
       "      <td>250</td>\n",
       "    </tr>\n",
       "    <tr>\n",
       "      <th>4</th>\n",
       "      <td>BAMS</td>\n",
       "      <td>20 years experience</td>\n",
       "      <td>100%</td>\n",
       "      <td>Keelkattalai, Chennai</td>\n",
       "      <td>Ayurveda</td>\n",
       "      <td>100% 4 Feedback Keelkattalai, Chennai</td>\n",
       "      <td>250</td>\n",
       "    </tr>\n",
       "    <tr>\n",
       "      <th>5</th>\n",
       "      <td>BAMS</td>\n",
       "      <td>8 years experience</td>\n",
       "      <td>NaN</td>\n",
       "      <td>Porur, Chennai</td>\n",
       "      <td>Ayurveda</td>\n",
       "      <td>NaN</td>\n",
       "      <td>100</td>\n",
       "    </tr>\n",
       "    <tr>\n",
       "      <th>6</th>\n",
       "      <td>BHMS</td>\n",
       "      <td>42 years experience</td>\n",
       "      <td>NaN</td>\n",
       "      <td>Karol Bagh, Delhi</td>\n",
       "      <td>Homeopath</td>\n",
       "      <td>NaN</td>\n",
       "      <td>200</td>\n",
       "    </tr>\n",
       "    <tr>\n",
       "      <th>7</th>\n",
       "      <td>BDS</td>\n",
       "      <td>10 years experience</td>\n",
       "      <td>99%</td>\n",
       "      <td>Arekere, Bangalore</td>\n",
       "      <td>Dentist</td>\n",
       "      <td>Dental Fillings Crowns and Bridges Fixing Impa...</td>\n",
       "      <td>200</td>\n",
       "    </tr>\n",
       "    <tr>\n",
       "      <th>8</th>\n",
       "      <td>MBBS, MD - General Medicine</td>\n",
       "      <td>14 years experience</td>\n",
       "      <td>NaN</td>\n",
       "      <td>Old City, Hyderabad</td>\n",
       "      <td>General Medicine</td>\n",
       "      <td>NaN</td>\n",
       "      <td>100</td>\n",
       "    </tr>\n",
       "    <tr>\n",
       "      <th>9</th>\n",
       "      <td>BSc, BDS</td>\n",
       "      <td>23 years experience</td>\n",
       "      <td>NaN</td>\n",
       "      <td>Athani, Ernakulam</td>\n",
       "      <td>Dentist</td>\n",
       "      <td>NaN</td>\n",
       "      <td>100</td>\n",
       "    </tr>\n",
       "    <tr>\n",
       "      <th>10</th>\n",
       "      <td>MBBS, MS, DNB - ENT</td>\n",
       "      <td>5 years experience</td>\n",
       "      <td>NaN</td>\n",
       "      <td>Thousand Lights, Chennai</td>\n",
       "      <td>ENT Specialist</td>\n",
       "      <td>NaN</td>\n",
       "      <td>700</td>\n",
       "    </tr>\n",
       "    <tr>\n",
       "      <th>11</th>\n",
       "      <td>BAMS</td>\n",
       "      <td>7 years experience</td>\n",
       "      <td>NaN</td>\n",
       "      <td>Somajiguda, Hyderabad</td>\n",
       "      <td>Ayurveda</td>\n",
       "      <td>NaN</td>\n",
       "      <td>100</td>\n",
       "    </tr>\n",
       "    <tr>\n",
       "      <th>12</th>\n",
       "      <td>BDS, MDS</td>\n",
       "      <td>9 years experience</td>\n",
       "      <td>98%</td>\n",
       "      <td>Coimbatore Racecourse, Coimbatore</td>\n",
       "      <td>Dentist</td>\n",
       "      <td>98% 14 Feedback Coimbatore Racecourse, Coimbatore</td>\n",
       "      <td>200</td>\n",
       "    </tr>\n",
       "    <tr>\n",
       "      <th>13</th>\n",
       "      <td>BDS, MDS - Oral &amp; Maxillofacial Surgery</td>\n",
       "      <td>21 years experience</td>\n",
       "      <td>NaN</td>\n",
       "      <td>Jubilee Hills, Hyderabad</td>\n",
       "      <td>Dentist</td>\n",
       "      <td>Dental Crowns Facet Dental Dental prophylaxis</td>\n",
       "      <td>350</td>\n",
       "    </tr>\n",
       "    <tr>\n",
       "      <th>14</th>\n",
       "      <td>MBBS, Diploma in Otorhinolaryngology (DLO), DN...</td>\n",
       "      <td>12 years experience</td>\n",
       "      <td>NaN</td>\n",
       "      <td>Kondli, Delhi</td>\n",
       "      <td>ENT Specialist</td>\n",
       "      <td>NaN</td>\n",
       "      <td>500</td>\n",
       "    </tr>\n",
       "    <tr>\n",
       "      <th>15</th>\n",
       "      <td>MBBS, MD - General Medicine</td>\n",
       "      <td>10 years experience</td>\n",
       "      <td>NaN</td>\n",
       "      <td>Saroor Nagar, Hyderabad</td>\n",
       "      <td>General Medicine</td>\n",
       "      <td>NaN</td>\n",
       "      <td>200</td>\n",
       "    </tr>\n",
       "    <tr>\n",
       "      <th>16</th>\n",
       "      <td>MBBS, Diploma in Otorhinolaryngology (DLO)</td>\n",
       "      <td>24 years experience</td>\n",
       "      <td>NaN</td>\n",
       "      <td>Tambaram West, Chennai</td>\n",
       "      <td>ENT Specialist</td>\n",
       "      <td>NaN</td>\n",
       "      <td>100</td>\n",
       "    </tr>\n",
       "    <tr>\n",
       "      <th>17</th>\n",
       "      <td>MBBS, MF- Homeopathy</td>\n",
       "      <td>5 years experience</td>\n",
       "      <td>NaN</td>\n",
       "      <td>Purasawakkam, Chennai</td>\n",
       "      <td>Homeopath</td>\n",
       "      <td>NaN</td>\n",
       "      <td>300</td>\n",
       "    </tr>\n",
       "    <tr>\n",
       "      <th>18</th>\n",
       "      <td>MBBS, MS - ENT</td>\n",
       "      <td>19 years experience</td>\n",
       "      <td>79%</td>\n",
       "      <td>KPHB, Hyderabad</td>\n",
       "      <td>ENT Specialist</td>\n",
       "      <td>79% 8 Feedback KPHB, Hyderabad</td>\n",
       "      <td>400</td>\n",
       "    </tr>\n",
       "    <tr>\n",
       "      <th>19</th>\n",
       "      <td>MBBS</td>\n",
       "      <td>19 years experience</td>\n",
       "      <td>100%</td>\n",
       "      <td>HSR Layout, Bangalore</td>\n",
       "      <td>General Medicine</td>\n",
       "      <td>100% 4 Feedback HSR Layout, Bangalore</td>\n",
       "      <td>150</td>\n",
       "    </tr>\n",
       "  </tbody>\n",
       "</table>\n",
       "</div>"
      ],
      "text/plain": [
       "                                        Qualification           Experience  \\\n",
       "0                               BHMS, MD - Homeopathy  24 years experience   \n",
       "1                        BAMS, MD - Ayurveda Medicine  12 years experience   \n",
       "2                      MBBS, MS - Otorhinolaryngology   9 years experience   \n",
       "3                                 BSc - Zoology, BAMS  12 years experience   \n",
       "4                                                BAMS  20 years experience   \n",
       "5                                                BAMS   8 years experience   \n",
       "6                                                BHMS  42 years experience   \n",
       "7                                                 BDS  10 years experience   \n",
       "8                         MBBS, MD - General Medicine  14 years experience   \n",
       "9                                            BSc, BDS  23 years experience   \n",
       "10                                MBBS, MS, DNB - ENT   5 years experience   \n",
       "11                                               BAMS   7 years experience   \n",
       "12                                           BDS, MDS   9 years experience   \n",
       "13            BDS, MDS - Oral & Maxillofacial Surgery  21 years experience   \n",
       "14  MBBS, Diploma in Otorhinolaryngology (DLO), DN...  12 years experience   \n",
       "15                        MBBS, MD - General Medicine  10 years experience   \n",
       "16         MBBS, Diploma in Otorhinolaryngology (DLO)  24 years experience   \n",
       "17                               MBBS, MF- Homeopathy   5 years experience   \n",
       "18                                     MBBS, MS - ENT  19 years experience   \n",
       "19                                               MBBS  19 years experience   \n",
       "\n",
       "   Rating                              Place           Profile  \\\n",
       "0    100%                Kakkanad, Ernakulam         Homeopath   \n",
       "1     98%              Whitefield, Bangalore          Ayurveda   \n",
       "2     NaN         Mathikere - BEL, Bangalore    ENT Specialist   \n",
       "3     NaN       Bannerghatta Road, Bangalore          Ayurveda   \n",
       "4    100%              Keelkattalai, Chennai          Ayurveda   \n",
       "5     NaN                     Porur, Chennai          Ayurveda   \n",
       "6     NaN                  Karol Bagh, Delhi         Homeopath   \n",
       "7     99%                 Arekere, Bangalore           Dentist   \n",
       "8     NaN                Old City, Hyderabad  General Medicine   \n",
       "9     NaN                  Athani, Ernakulam           Dentist   \n",
       "10    NaN           Thousand Lights, Chennai    ENT Specialist   \n",
       "11    NaN              Somajiguda, Hyderabad          Ayurveda   \n",
       "12    98%  Coimbatore Racecourse, Coimbatore           Dentist   \n",
       "13    NaN           Jubilee Hills, Hyderabad           Dentist   \n",
       "14    NaN                      Kondli, Delhi    ENT Specialist   \n",
       "15    NaN            Saroor Nagar, Hyderabad  General Medicine   \n",
       "16    NaN             Tambaram West, Chennai    ENT Specialist   \n",
       "17    NaN              Purasawakkam, Chennai         Homeopath   \n",
       "18    79%                    KPHB, Hyderabad    ENT Specialist   \n",
       "19   100%              HSR Layout, Bangalore  General Medicine   \n",
       "\n",
       "                                   Miscellaneous_Info  Fees  \n",
       "0                100% 16 Feedback Kakkanad, Ernakulam   100  \n",
       "1               98% 76 Feedback Whitefield, Bangalore   350  \n",
       "2                                                 NaN   300  \n",
       "3   Bannerghatta Road, Bangalore ₹250 Available on...   250  \n",
       "4               100% 4 Feedback Keelkattalai, Chennai   250  \n",
       "5                                                 NaN   100  \n",
       "6                                                 NaN   200  \n",
       "7   Dental Fillings Crowns and Bridges Fixing Impa...   200  \n",
       "8                                                 NaN   100  \n",
       "9                                                 NaN   100  \n",
       "10                                                NaN   700  \n",
       "11                                                NaN   100  \n",
       "12  98% 14 Feedback Coimbatore Racecourse, Coimbatore   200  \n",
       "13      Dental Crowns Facet Dental Dental prophylaxis   350  \n",
       "14                                                NaN   500  \n",
       "15                                                NaN   200  \n",
       "16                                                NaN   100  \n",
       "17                                                NaN   300  \n",
       "18                     79% 8 Feedback KPHB, Hyderabad   400  \n",
       "19              100% 4 Feedback HSR Layout, Bangalore   150  "
      ]
     },
     "execution_count": 3,
     "metadata": {},
     "output_type": "execute_result"
    }
   ],
   "source": [
    "dr_train.head(20)"
   ]
  },
  {
   "cell_type": "code",
   "execution_count": 4,
   "metadata": {},
   "outputs": [
    {
     "data": {
      "text/html": [
       "<div>\n",
       "<style scoped>\n",
       "    .dataframe tbody tr th:only-of-type {\n",
       "        vertical-align: middle;\n",
       "    }\n",
       "\n",
       "    .dataframe tbody tr th {\n",
       "        vertical-align: top;\n",
       "    }\n",
       "\n",
       "    .dataframe thead th {\n",
       "        text-align: right;\n",
       "    }\n",
       "</style>\n",
       "<table border=\"1\" class=\"dataframe\">\n",
       "  <thead>\n",
       "    <tr style=\"text-align: right;\">\n",
       "      <th></th>\n",
       "      <th>Qualification</th>\n",
       "      <th>Experience</th>\n",
       "      <th>Rating</th>\n",
       "      <th>Place</th>\n",
       "      <th>Profile</th>\n",
       "      <th>Miscellaneous_Info</th>\n",
       "    </tr>\n",
       "  </thead>\n",
       "  <tbody>\n",
       "    <tr>\n",
       "      <th>0</th>\n",
       "      <td>MBBS</td>\n",
       "      <td>35 years experience</td>\n",
       "      <td>NaN</td>\n",
       "      <td>Ghatkopar East, Mumbai</td>\n",
       "      <td>General Medicine</td>\n",
       "      <td>NaN</td>\n",
       "    </tr>\n",
       "    <tr>\n",
       "      <th>1</th>\n",
       "      <td>MBBS, Diploma in Otorhinolaryngology (DLO)</td>\n",
       "      <td>31 years experience</td>\n",
       "      <td>NaN</td>\n",
       "      <td>West Marredpally, Hyderabad</td>\n",
       "      <td>ENT Specialist</td>\n",
       "      <td>NaN</td>\n",
       "    </tr>\n",
       "    <tr>\n",
       "      <th>2</th>\n",
       "      <td>MBBS, DDVL</td>\n",
       "      <td>40 years experience</td>\n",
       "      <td>70%</td>\n",
       "      <td>KK Nagar, Chennai</td>\n",
       "      <td>Dermatologists</td>\n",
       "      <td>70% 4 Feedback KK Nagar, Chennai</td>\n",
       "    </tr>\n",
       "    <tr>\n",
       "      <th>3</th>\n",
       "      <td>BAMS</td>\n",
       "      <td>0 years experience</td>\n",
       "      <td>NaN</td>\n",
       "      <td>New Ashok Nagar, Delhi</td>\n",
       "      <td>Ayurveda</td>\n",
       "      <td>NaN</td>\n",
       "    </tr>\n",
       "    <tr>\n",
       "      <th>4</th>\n",
       "      <td>BDS, MDS - Conservative Dentistry &amp; Endodontics</td>\n",
       "      <td>16 years experience</td>\n",
       "      <td>100%</td>\n",
       "      <td>Kanakpura Road, Bangalore</td>\n",
       "      <td>Dentist</td>\n",
       "      <td>General Dentistry Conservative Dentistry Cosme...</td>\n",
       "    </tr>\n",
       "    <tr>\n",
       "      <th>5</th>\n",
       "      <td>BDS, MDS</td>\n",
       "      <td>14 years experience</td>\n",
       "      <td>90%</td>\n",
       "      <td>Velachery, Chennai</td>\n",
       "      <td>Dentist</td>\n",
       "      <td>Acrylic Partial Denture Impaction / Impacted T...</td>\n",
       "    </tr>\n",
       "    <tr>\n",
       "      <th>6</th>\n",
       "      <td>MBBS, Diploma in Otorhinolaryngology (DLO)</td>\n",
       "      <td>23 years experience</td>\n",
       "      <td>94%</td>\n",
       "      <td>Frazer Town, Bangalore</td>\n",
       "      <td>ENT Specialist</td>\n",
       "      <td>94% 6 Feedback Frazer Town, Bangalore</td>\n",
       "    </tr>\n",
       "    <tr>\n",
       "      <th>7</th>\n",
       "      <td>BDS, MDS - Pedodontics</td>\n",
       "      <td>9 years experience</td>\n",
       "      <td>94%</td>\n",
       "      <td>Attapur, Hyderabad</td>\n",
       "      <td>Dentist</td>\n",
       "      <td>RCT - Root Canal Treatment Ceramic Veneers / C...</td>\n",
       "    </tr>\n",
       "    <tr>\n",
       "      <th>8</th>\n",
       "      <td>MD - Ayurveda Medicine, BAMS, Yoga Teachers Tr...</td>\n",
       "      <td>11 years experience</td>\n",
       "      <td>99%</td>\n",
       "      <td>Banashankari, Bangalore</td>\n",
       "      <td>Ayurveda</td>\n",
       "      <td>99% 203 Feedback Banashankari, Bangalore</td>\n",
       "    </tr>\n",
       "    <tr>\n",
       "      <th>9</th>\n",
       "      <td>BHMS</td>\n",
       "      <td>44 years experience</td>\n",
       "      <td>NaN</td>\n",
       "      <td>Mayur Vihar Ph-I, Delhi</td>\n",
       "      <td>Homeopath</td>\n",
       "      <td>NaN</td>\n",
       "    </tr>\n",
       "    <tr>\n",
       "      <th>10</th>\n",
       "      <td>BDS</td>\n",
       "      <td>4 years experience</td>\n",
       "      <td>100%</td>\n",
       "      <td>Erragadda, Hyderabad</td>\n",
       "      <td>Dentist</td>\n",
       "      <td>Dental Fillings Zirconia Crowns RCT - Single S...</td>\n",
       "    </tr>\n",
       "    <tr>\n",
       "      <th>11</th>\n",
       "      <td>MBBS, FCD - Diabetology</td>\n",
       "      <td>34 years experience</td>\n",
       "      <td>NaN</td>\n",
       "      <td>Gandhipuram, Coimbatore</td>\n",
       "      <td>General Medicine</td>\n",
       "      <td>NaN</td>\n",
       "    </tr>\n",
       "    <tr>\n",
       "      <th>12</th>\n",
       "      <td>MBBS, DDV</td>\n",
       "      <td>11 years experience</td>\n",
       "      <td>98%</td>\n",
       "      <td>Kemps Corner, Mumbai</td>\n",
       "      <td>Dermatologists</td>\n",
       "      <td>98% 28 Feedback Kemps Corner, Mumbai</td>\n",
       "    </tr>\n",
       "    <tr>\n",
       "      <th>13</th>\n",
       "      <td>MBBS, MD - Dermatology</td>\n",
       "      <td>13 years experience</td>\n",
       "      <td>99%</td>\n",
       "      <td>Banjara Hills, Hyderabad</td>\n",
       "      <td>Dermatologists</td>\n",
       "      <td>Laser Hair Removal - Face Skin Tag Treatment H...</td>\n",
       "    </tr>\n",
       "    <tr>\n",
       "      <th>14</th>\n",
       "      <td>MS - ENT</td>\n",
       "      <td>4 years experience</td>\n",
       "      <td>NaN</td>\n",
       "      <td>Madandapuram, Chennai</td>\n",
       "      <td>ENT Specialist</td>\n",
       "      <td>NaN</td>\n",
       "    </tr>\n",
       "    <tr>\n",
       "      <th>15</th>\n",
       "      <td>BDS</td>\n",
       "      <td>4 years experience</td>\n",
       "      <td>NaN</td>\n",
       "      <td>Mukherjee Nagar, Delhi</td>\n",
       "      <td>Dentist</td>\n",
       "      <td>Mukherjee Nagar, Delhi ₹250 Visits Today</td>\n",
       "    </tr>\n",
       "    <tr>\n",
       "      <th>16</th>\n",
       "      <td>MBBS, MD - Dermatology</td>\n",
       "      <td>16 years experience</td>\n",
       "      <td>87%</td>\n",
       "      <td>Tis Hazari, Delhi</td>\n",
       "      <td>Dermatologists</td>\n",
       "      <td>87% 9 Feedback Tis Hazari, Delhi</td>\n",
       "    </tr>\n",
       "    <tr>\n",
       "      <th>17</th>\n",
       "      <td>MBBS, Diploma in Otorhinolaryngology (DLO), MS...</td>\n",
       "      <td>28 years experience</td>\n",
       "      <td>64%</td>\n",
       "      <td>Banashankari 2nd Stage, Bangalore</td>\n",
       "      <td>ENT Specialist</td>\n",
       "      <td>64% 4 Feedback Banashankari 2nd Stage, Bangalore</td>\n",
       "    </tr>\n",
       "    <tr>\n",
       "      <th>18</th>\n",
       "      <td>BDS, MDS - Conservative Dentistry &amp; Endodontics</td>\n",
       "      <td>6 years experience</td>\n",
       "      <td>NaN</td>\n",
       "      <td>Nagawara, Bangalore</td>\n",
       "      <td>Dentist</td>\n",
       "      <td>Ceramic Veneers / Crowns Cosmetic/ Aesthetic D...</td>\n",
       "    </tr>\n",
       "    <tr>\n",
       "      <th>19</th>\n",
       "      <td>MBBS, MD - Dermatology</td>\n",
       "      <td>32 years experience</td>\n",
       "      <td>90%</td>\n",
       "      <td>Basavanagudi, Bangalore</td>\n",
       "      <td>Dermatologists</td>\n",
       "      <td>90% 3 Feedback Basavanagudi, Bangalore</td>\n",
       "    </tr>\n",
       "  </tbody>\n",
       "</table>\n",
       "</div>"
      ],
      "text/plain": [
       "                                        Qualification           Experience  \\\n",
       "0                                                MBBS  35 years experience   \n",
       "1          MBBS, Diploma in Otorhinolaryngology (DLO)  31 years experience   \n",
       "2                                          MBBS, DDVL  40 years experience   \n",
       "3                                                BAMS   0 years experience   \n",
       "4     BDS, MDS - Conservative Dentistry & Endodontics  16 years experience   \n",
       "5                                            BDS, MDS  14 years experience   \n",
       "6          MBBS, Diploma in Otorhinolaryngology (DLO)  23 years experience   \n",
       "7                              BDS, MDS - Pedodontics   9 years experience   \n",
       "8   MD - Ayurveda Medicine, BAMS, Yoga Teachers Tr...  11 years experience   \n",
       "9                                                BHMS  44 years experience   \n",
       "10                                                BDS   4 years experience   \n",
       "11                            MBBS, FCD - Diabetology  34 years experience   \n",
       "12                                          MBBS, DDV  11 years experience   \n",
       "13                             MBBS, MD - Dermatology  13 years experience   \n",
       "14                                           MS - ENT   4 years experience   \n",
       "15                                                BDS   4 years experience   \n",
       "16                             MBBS, MD - Dermatology  16 years experience   \n",
       "17  MBBS, Diploma in Otorhinolaryngology (DLO), MS...  28 years experience   \n",
       "18    BDS, MDS - Conservative Dentistry & Endodontics   6 years experience   \n",
       "19                             MBBS, MD - Dermatology  32 years experience   \n",
       "\n",
       "   Rating                              Place           Profile  \\\n",
       "0     NaN             Ghatkopar East, Mumbai  General Medicine   \n",
       "1     NaN        West Marredpally, Hyderabad    ENT Specialist   \n",
       "2     70%                  KK Nagar, Chennai    Dermatologists   \n",
       "3     NaN             New Ashok Nagar, Delhi          Ayurveda   \n",
       "4    100%          Kanakpura Road, Bangalore           Dentist   \n",
       "5     90%                 Velachery, Chennai           Dentist   \n",
       "6     94%             Frazer Town, Bangalore    ENT Specialist   \n",
       "7     94%                 Attapur, Hyderabad           Dentist   \n",
       "8     99%            Banashankari, Bangalore          Ayurveda   \n",
       "9     NaN            Mayur Vihar Ph-I, Delhi         Homeopath   \n",
       "10   100%               Erragadda, Hyderabad           Dentist   \n",
       "11    NaN            Gandhipuram, Coimbatore  General Medicine   \n",
       "12    98%               Kemps Corner, Mumbai    Dermatologists   \n",
       "13    99%           Banjara Hills, Hyderabad    Dermatologists   \n",
       "14    NaN              Madandapuram, Chennai    ENT Specialist   \n",
       "15    NaN             Mukherjee Nagar, Delhi           Dentist   \n",
       "16    87%                  Tis Hazari, Delhi    Dermatologists   \n",
       "17    64%  Banashankari 2nd Stage, Bangalore    ENT Specialist   \n",
       "18    NaN                Nagawara, Bangalore           Dentist   \n",
       "19    90%            Basavanagudi, Bangalore    Dermatologists   \n",
       "\n",
       "                                   Miscellaneous_Info  \n",
       "0                                                 NaN  \n",
       "1                                                 NaN  \n",
       "2                    70% 4 Feedback KK Nagar, Chennai  \n",
       "3                                                 NaN  \n",
       "4   General Dentistry Conservative Dentistry Cosme...  \n",
       "5   Acrylic Partial Denture Impaction / Impacted T...  \n",
       "6               94% 6 Feedback Frazer Town, Bangalore  \n",
       "7   RCT - Root Canal Treatment Ceramic Veneers / C...  \n",
       "8            99% 203 Feedback Banashankari, Bangalore  \n",
       "9                                                 NaN  \n",
       "10  Dental Fillings Zirconia Crowns RCT - Single S...  \n",
       "11                                                NaN  \n",
       "12               98% 28 Feedback Kemps Corner, Mumbai  \n",
       "13  Laser Hair Removal - Face Skin Tag Treatment H...  \n",
       "14                                                NaN  \n",
       "15           Mukherjee Nagar, Delhi ₹250 Visits Today  \n",
       "16                   87% 9 Feedback Tis Hazari, Delhi  \n",
       "17   64% 4 Feedback Banashankari 2nd Stage, Bangalore  \n",
       "18  Ceramic Veneers / Crowns Cosmetic/ Aesthetic D...  \n",
       "19             90% 3 Feedback Basavanagudi, Bangalore  "
      ]
     },
     "execution_count": 4,
     "metadata": {},
     "output_type": "execute_result"
    }
   ],
   "source": [
    "dr_test.head(20)"
   ]
  },
  {
   "cell_type": "markdown",
   "metadata": {},
   "source": [
    "# Exploratory Data Analysis"
   ]
  },
  {
   "cell_type": "code",
   "execution_count": 5,
   "metadata": {},
   "outputs": [
    {
     "data": {
      "text/plain": [
       "((5961, 7), (1987, 6))"
      ]
     },
     "execution_count": 5,
     "metadata": {},
     "output_type": "execute_result"
    }
   ],
   "source": [
    "dr_train.shape,dr_test.shape #checking the no of rows and columns of train and test data"
   ]
  },
  {
   "cell_type": "code",
   "execution_count": 6,
   "metadata": {},
   "outputs": [
    {
     "data": {
      "text/plain": [
       "Qualification            0\n",
       "Experience               0\n",
       "Rating                3302\n",
       "Place                   25\n",
       "Profile                  0\n",
       "Miscellaneous_Info    2620\n",
       "Fees                     0\n",
       "dtype: int64"
      ]
     },
     "execution_count": 6,
     "metadata": {},
     "output_type": "execute_result"
    }
   ],
   "source": [
    "dr_train.isnull().sum() #checking for null values in train data"
   ]
  },
  {
   "cell_type": "code",
   "execution_count": 7,
   "metadata": {},
   "outputs": [
    {
     "data": {
      "text/plain": [
       "Qualification            0\n",
       "Experience               0\n",
       "Rating                1090\n",
       "Place                    6\n",
       "Profile                  0\n",
       "Miscellaneous_Info     834\n",
       "dtype: int64"
      ]
     },
     "execution_count": 7,
     "metadata": {},
     "output_type": "execute_result"
    }
   ],
   "source": [
    "dr_test.isnull().sum() #checking for null values in test data"
   ]
  },
  {
   "cell_type": "markdown",
   "metadata": {},
   "source": [
    "We can see that in both train and test data there are null values in 'Rating', 'place' and 'Miscellaneaous_Info'"
   ]
  },
  {
   "cell_type": "code",
   "execution_count": 8,
   "metadata": {},
   "outputs": [
    {
     "data": {
      "text/plain": [
       "(Qualification         object\n",
       " Experience            object\n",
       " Rating                object\n",
       " Place                 object\n",
       " Profile               object\n",
       " Miscellaneous_Info    object\n",
       " Fees                   int64\n",
       " dtype: object,\n",
       " Qualification         object\n",
       " Experience            object\n",
       " Rating                object\n",
       " Place                 object\n",
       " Profile               object\n",
       " Miscellaneous_Info    object\n",
       " dtype: object)"
      ]
     },
     "execution_count": 8,
     "metadata": {},
     "output_type": "execute_result"
    }
   ],
   "source": [
    "dr_train.dtypes, dr_test.dtypes # checking the data types of both train and test data"
   ]
  },
  {
   "cell_type": "markdown",
   "metadata": {},
   "source": [
    "We can see that there all are categoraical variables and only the target variable is in numerical in train data"
   ]
  },
  {
   "cell_type": "code",
   "execution_count": 9,
   "metadata": {},
   "outputs": [
    {
     "data": {
      "text/plain": [
       "Acrylic Partial Denture Crowns and Bridges Fixing Artificial Teeth                      40\n",
       "Tooth Extraction Dental Fillings Scaling / Polishing                                    12\n",
       "Dental Fillings Zirconia Crowns Dental Implant Fixing                                   12\n",
       "Skin Allergy Treatment Skin Allergies Dermabrasion                                       9\n",
       "Skin Disease Treatment Kidney Stone Treatment Gall Bladder (Biliary) Stone Treatment     9\n",
       "                                                                                        ..\n",
       "86% 14 Feedback Malleswaram, Bangalore                                                   1\n",
       "93% 71 Feedback CV Raman Nagar, Bangalore                                                1\n",
       "100% 222 Feedback Malkajgiri, Hyderabad                                                  1\n",
       "100% 6 Feedback Frazer Town, Bangalore                                                   1\n",
       "98% 144 Feedback Vikhroli East, Mumbai                                                   1\n",
       "Name: Miscellaneous_Info, Length: 2998, dtype: int64"
      ]
     },
     "execution_count": 9,
     "metadata": {},
     "output_type": "execute_result"
    }
   ],
   "source": [
    "dr_train_vc=dr_train['Miscellaneous_Info'].value_counts()\n",
    "dr_train_vc"
   ]
  },
  {
   "cell_type": "code",
   "execution_count": 10,
   "metadata": {},
   "outputs": [
    {
     "data": {
      "text/plain": [
       "Acrylic Partial Denture Crowns and Bridges Fixing Artificial Teeth             10\n",
       "Skin Allergy Treatment Skin Allergies Dermabrasion                              9\n",
       "Dermabrasion Laser Resurfacing Acne / Pimples Treatment                         6\n",
       "Crowns and Bridges Fixing Complete/Partial Dentures Fixing Tooth Extraction     4\n",
       "Tooth Extraction Dental Fillings Scaling / Polishing                            4\n",
       "                                                                               ..\n",
       "Dental Implant Fixing Crowns and Bridges Fixing Scaling / Polishing             1\n",
       "94% 156 Feedback KPHB, Hyderabad                                                1\n",
       "97% 230 Feedback Rajouri Garden, Delhi                                          1\n",
       "Khanpur, Delhi ₹250 Visits Today                                                1\n",
       "90% 21 Feedback Shahdara, Delhi                                                 1\n",
       "Name: Miscellaneous_Info, Length: 1084, dtype: int64"
      ]
     },
     "execution_count": 10,
     "metadata": {},
     "output_type": "execute_result"
    }
   ],
   "source": [
    "dr_test_vc=dr_test['Miscellaneous_Info'].value_counts()\n",
    "dr_test_vc"
   ]
  },
  {
   "cell_type": "code",
   "execution_count": 11,
   "metadata": {},
   "outputs": [],
   "source": [
    "for i in dr_train_vc.index:\n",
    "    dr_train['Miscellaneous_Info'].replace(i,int(1),inplace=True)\n",
    "dr_train['Miscellaneous_Info'].fillna(int(0),inplace=True)"
   ]
  },
  {
   "cell_type": "code",
   "execution_count": 12,
   "metadata": {},
   "outputs": [],
   "source": [
    "for i in dr_test_vc.index:\n",
    "    dr_test['Miscellaneous_Info'].replace(i,int(1),inplace=True)\n",
    "dr_test['Miscellaneous_Info'].fillna(int(0),inplace=True)"
   ]
  },
  {
   "cell_type": "code",
   "execution_count": 13,
   "metadata": {},
   "outputs": [
    {
     "data": {
      "text/plain": [
       "0     1.0\n",
       "1     1.0\n",
       "2     0.0\n",
       "3     1.0\n",
       "4     1.0\n",
       "5     0.0\n",
       "6     0.0\n",
       "7     1.0\n",
       "8     0.0\n",
       "9     0.0\n",
       "10    0.0\n",
       "11    0.0\n",
       "12    1.0\n",
       "13    1.0\n",
       "14    0.0\n",
       "15    0.0\n",
       "16    0.0\n",
       "17    0.0\n",
       "18    1.0\n",
       "19    1.0\n",
       "Name: Miscellaneous_Info, dtype: float64"
      ]
     },
     "execution_count": 13,
     "metadata": {},
     "output_type": "execute_result"
    }
   ],
   "source": [
    "dr_train['Miscellaneous_Info'].head(20)"
   ]
  },
  {
   "cell_type": "code",
   "execution_count": 14,
   "metadata": {},
   "outputs": [
    {
     "data": {
      "text/plain": [
       "0     0.0\n",
       "1     0.0\n",
       "2     1.0\n",
       "3     0.0\n",
       "4     1.0\n",
       "5     1.0\n",
       "6     1.0\n",
       "7     1.0\n",
       "8     1.0\n",
       "9     0.0\n",
       "10    1.0\n",
       "11    0.0\n",
       "12    1.0\n",
       "13    1.0\n",
       "14    0.0\n",
       "15    1.0\n",
       "16    1.0\n",
       "17    1.0\n",
       "18    1.0\n",
       "19    1.0\n",
       "Name: Miscellaneous_Info, dtype: float64"
      ]
     },
     "execution_count": 14,
     "metadata": {},
     "output_type": "execute_result"
    }
   ],
   "source": [
    "dr_test['Miscellaneous_Info'].head(20)"
   ]
  },
  {
   "cell_type": "markdown",
   "metadata": {},
   "source": [
    "We have replaces all the null values to '0' and non null values to '1' as the 'Miscellaneous_Info' holds information "
   ]
  },
  {
   "cell_type": "code",
   "execution_count": 15,
   "metadata": {},
   "outputs": [
    {
     "data": {
      "text/plain": [
       "(3302, 1090)"
      ]
     },
     "execution_count": 15,
     "metadata": {},
     "output_type": "execute_result"
    }
   ],
   "source": [
    "dr_train['Rating'].isnull().sum(), dr_test['Rating'].isnull().sum()"
   ]
  },
  {
   "cell_type": "markdown",
   "metadata": {},
   "source": [
    "we can see that there are more than 50% of null values in 'Rating' column of both train and test data. Therefore we can replace it with 0%"
   ]
  },
  {
   "cell_type": "code",
   "execution_count": 16,
   "metadata": {},
   "outputs": [],
   "source": [
    "dr_train['Rating'].fillna('0%',axis=0,inplace=True)\n",
    "dr_train['Rating'] = dr_train['Rating'].str.slice(stop=-1).astype(int)"
   ]
  },
  {
   "cell_type": "code",
   "execution_count": 17,
   "metadata": {},
   "outputs": [],
   "source": [
    "dr_test['Rating'].fillna('0%',axis=0,inplace=True)\n",
    "dr_test['Rating'] = dr_test['Rating'].str.slice(stop=-1).astype(int)"
   ]
  },
  {
   "cell_type": "markdown",
   "metadata": {},
   "source": [
    "We have replace null values with 0% and converted the string value to integer"
   ]
  },
  {
   "cell_type": "code",
   "execution_count": 18,
   "metadata": {},
   "outputs": [
    {
     "data": {
      "text/plain": [
       "Qualification          0\n",
       "Experience             0\n",
       "Rating                 0\n",
       "Place                 25\n",
       "Profile                0\n",
       "Miscellaneous_Info     0\n",
       "Fees                   0\n",
       "dtype: int64"
      ]
     },
     "execution_count": 18,
     "metadata": {},
     "output_type": "execute_result"
    }
   ],
   "source": [
    "dr_train.isnull().sum() #checking for null values in train data"
   ]
  },
  {
   "cell_type": "code",
   "execution_count": 19,
   "metadata": {},
   "outputs": [
    {
     "data": {
      "text/plain": [
       "Qualification         0\n",
       "Experience            0\n",
       "Rating                0\n",
       "Place                 6\n",
       "Profile               0\n",
       "Miscellaneous_Info    0\n",
       "dtype: int64"
      ]
     },
     "execution_count": 19,
     "metadata": {},
     "output_type": "execute_result"
    }
   ],
   "source": [
    "dr_test.isnull().sum() #checking for null values in train data"
   ]
  },
  {
   "cell_type": "code",
   "execution_count": 20,
   "metadata": {},
   "outputs": [
    {
     "data": {
      "text/plain": [
       "(Qualification          object\n",
       " Experience             object\n",
       " Rating                  int32\n",
       " Place                  object\n",
       " Profile                object\n",
       " Miscellaneous_Info    float64\n",
       " Fees                    int64\n",
       " dtype: object,\n",
       " Qualification          object\n",
       " Experience             object\n",
       " Rating                  int32\n",
       " Place                  object\n",
       " Profile                object\n",
       " Miscellaneous_Info    float64\n",
       " dtype: object)"
      ]
     },
     "execution_count": 20,
     "metadata": {},
     "output_type": "execute_result"
    }
   ],
   "source": [
    "dr_train.dtypes, dr_test.dtypes"
   ]
  },
  {
   "cell_type": "markdown",
   "metadata": {},
   "source": [
    "Now there are only null values in 'Place' column\n",
    "Initially we fill the null values with (not known,not known)"
   ]
  },
  {
   "cell_type": "code",
   "execution_count": 21,
   "metadata": {},
   "outputs": [],
   "source": [
    "dr_train['Place'].fillna('not known,not known',axis=0,inplace=True)\n",
    "dr_test['Place'].fillna('not known,not known',axis=0,inplace=True)"
   ]
  },
  {
   "cell_type": "markdown",
   "metadata": {},
   "source": [
    "Now we split 'Place' into two columns, 'City' and 'Area' and we can drop place"
   ]
  },
  {
   "cell_type": "code",
   "execution_count": 22,
   "metadata": {},
   "outputs": [],
   "source": [
    "dr_train['Area'] = dr_train['Place'].str.split(\",\").str[0]\n",
    "dr_test['Area'] = dr_test['Place'].str.split(\",\").str[0]\n",
    "dr_train['City'] = dr_train['Place'].str.split(\",\").str[1]\n",
    "dr_test['City'] = dr_test['Place'].str.split(\",\").str[1]\n",
    "\n",
    "\n",
    "dr_train.drop('Place',axis=1,inplace=True)\n",
    "dr_test.drop('Place',axis=1,inplace=True)"
   ]
  },
  {
   "cell_type": "markdown",
   "metadata": {},
   "source": [
    "Now we remove any empty spaces if present in 'City' and 'Area' columns in train and test data"
   ]
  },
  {
   "cell_type": "code",
   "execution_count": 23,
   "metadata": {},
   "outputs": [],
   "source": [
    "dr_train['Area'] = dr_train['Area'].str.strip()\n",
    "dr_test['Area'] = dr_test['Area'].str.strip()\n",
    "dr_train['City'] = dr_train['City'].str.strip()\n",
    "dr_test['City'] = dr_test['City'].str.strip()"
   ]
  },
  {
   "cell_type": "code",
   "execution_count": 24,
   "metadata": {},
   "outputs": [
    {
     "data": {
      "text/html": [
       "<div>\n",
       "<style scoped>\n",
       "    .dataframe tbody tr th:only-of-type {\n",
       "        vertical-align: middle;\n",
       "    }\n",
       "\n",
       "    .dataframe tbody tr th {\n",
       "        vertical-align: top;\n",
       "    }\n",
       "\n",
       "    .dataframe thead th {\n",
       "        text-align: right;\n",
       "    }\n",
       "</style>\n",
       "<table border=\"1\" class=\"dataframe\">\n",
       "  <thead>\n",
       "    <tr style=\"text-align: right;\">\n",
       "      <th></th>\n",
       "      <th>Qualification</th>\n",
       "      <th>Experience</th>\n",
       "      <th>Rating</th>\n",
       "      <th>Profile</th>\n",
       "      <th>Miscellaneous_Info</th>\n",
       "      <th>Fees</th>\n",
       "      <th>Area</th>\n",
       "      <th>City</th>\n",
       "    </tr>\n",
       "  </thead>\n",
       "  <tbody>\n",
       "    <tr>\n",
       "      <th>0</th>\n",
       "      <td>BHMS, MD - Homeopathy</td>\n",
       "      <td>24 years experience</td>\n",
       "      <td>100</td>\n",
       "      <td>Homeopath</td>\n",
       "      <td>1.0</td>\n",
       "      <td>100</td>\n",
       "      <td>Kakkanad</td>\n",
       "      <td>Ernakulam</td>\n",
       "    </tr>\n",
       "    <tr>\n",
       "      <th>1</th>\n",
       "      <td>BAMS, MD - Ayurveda Medicine</td>\n",
       "      <td>12 years experience</td>\n",
       "      <td>98</td>\n",
       "      <td>Ayurveda</td>\n",
       "      <td>1.0</td>\n",
       "      <td>350</td>\n",
       "      <td>Whitefield</td>\n",
       "      <td>Bangalore</td>\n",
       "    </tr>\n",
       "    <tr>\n",
       "      <th>2</th>\n",
       "      <td>MBBS, MS - Otorhinolaryngology</td>\n",
       "      <td>9 years experience</td>\n",
       "      <td>0</td>\n",
       "      <td>ENT Specialist</td>\n",
       "      <td>0.0</td>\n",
       "      <td>300</td>\n",
       "      <td>Mathikere - BEL</td>\n",
       "      <td>Bangalore</td>\n",
       "    </tr>\n",
       "    <tr>\n",
       "      <th>3</th>\n",
       "      <td>BSc - Zoology, BAMS</td>\n",
       "      <td>12 years experience</td>\n",
       "      <td>0</td>\n",
       "      <td>Ayurveda</td>\n",
       "      <td>1.0</td>\n",
       "      <td>250</td>\n",
       "      <td>Bannerghatta Road</td>\n",
       "      <td>Bangalore</td>\n",
       "    </tr>\n",
       "    <tr>\n",
       "      <th>4</th>\n",
       "      <td>BAMS</td>\n",
       "      <td>20 years experience</td>\n",
       "      <td>100</td>\n",
       "      <td>Ayurveda</td>\n",
       "      <td>1.0</td>\n",
       "      <td>250</td>\n",
       "      <td>Keelkattalai</td>\n",
       "      <td>Chennai</td>\n",
       "    </tr>\n",
       "  </tbody>\n",
       "</table>\n",
       "</div>"
      ],
      "text/plain": [
       "                    Qualification           Experience  Rating  \\\n",
       "0           BHMS, MD - Homeopathy  24 years experience     100   \n",
       "1    BAMS, MD - Ayurveda Medicine  12 years experience      98   \n",
       "2  MBBS, MS - Otorhinolaryngology   9 years experience       0   \n",
       "3             BSc - Zoology, BAMS  12 years experience       0   \n",
       "4                            BAMS  20 years experience     100   \n",
       "\n",
       "          Profile  Miscellaneous_Info  Fees               Area       City  \n",
       "0       Homeopath                 1.0   100           Kakkanad  Ernakulam  \n",
       "1        Ayurveda                 1.0   350         Whitefield  Bangalore  \n",
       "2  ENT Specialist                 0.0   300    Mathikere - BEL  Bangalore  \n",
       "3        Ayurveda                 1.0   250  Bannerghatta Road  Bangalore  \n",
       "4        Ayurveda                 1.0   250       Keelkattalai    Chennai  "
      ]
     },
     "execution_count": 24,
     "metadata": {},
     "output_type": "execute_result"
    }
   ],
   "source": [
    "dr_train.head()"
   ]
  },
  {
   "cell_type": "code",
   "execution_count": 25,
   "metadata": {},
   "outputs": [
    {
     "data": {
      "text/html": [
       "<div>\n",
       "<style scoped>\n",
       "    .dataframe tbody tr th:only-of-type {\n",
       "        vertical-align: middle;\n",
       "    }\n",
       "\n",
       "    .dataframe tbody tr th {\n",
       "        vertical-align: top;\n",
       "    }\n",
       "\n",
       "    .dataframe thead th {\n",
       "        text-align: right;\n",
       "    }\n",
       "</style>\n",
       "<table border=\"1\" class=\"dataframe\">\n",
       "  <thead>\n",
       "    <tr style=\"text-align: right;\">\n",
       "      <th></th>\n",
       "      <th>Qualification</th>\n",
       "      <th>Experience</th>\n",
       "      <th>Rating</th>\n",
       "      <th>Profile</th>\n",
       "      <th>Miscellaneous_Info</th>\n",
       "      <th>Area</th>\n",
       "      <th>City</th>\n",
       "    </tr>\n",
       "  </thead>\n",
       "  <tbody>\n",
       "    <tr>\n",
       "      <th>0</th>\n",
       "      <td>MBBS</td>\n",
       "      <td>35 years experience</td>\n",
       "      <td>0</td>\n",
       "      <td>General Medicine</td>\n",
       "      <td>0.0</td>\n",
       "      <td>Ghatkopar East</td>\n",
       "      <td>Mumbai</td>\n",
       "    </tr>\n",
       "    <tr>\n",
       "      <th>1</th>\n",
       "      <td>MBBS, Diploma in Otorhinolaryngology (DLO)</td>\n",
       "      <td>31 years experience</td>\n",
       "      <td>0</td>\n",
       "      <td>ENT Specialist</td>\n",
       "      <td>0.0</td>\n",
       "      <td>West Marredpally</td>\n",
       "      <td>Hyderabad</td>\n",
       "    </tr>\n",
       "    <tr>\n",
       "      <th>2</th>\n",
       "      <td>MBBS, DDVL</td>\n",
       "      <td>40 years experience</td>\n",
       "      <td>70</td>\n",
       "      <td>Dermatologists</td>\n",
       "      <td>1.0</td>\n",
       "      <td>KK Nagar</td>\n",
       "      <td>Chennai</td>\n",
       "    </tr>\n",
       "    <tr>\n",
       "      <th>3</th>\n",
       "      <td>BAMS</td>\n",
       "      <td>0 years experience</td>\n",
       "      <td>0</td>\n",
       "      <td>Ayurveda</td>\n",
       "      <td>0.0</td>\n",
       "      <td>New Ashok Nagar</td>\n",
       "      <td>Delhi</td>\n",
       "    </tr>\n",
       "    <tr>\n",
       "      <th>4</th>\n",
       "      <td>BDS, MDS - Conservative Dentistry &amp; Endodontics</td>\n",
       "      <td>16 years experience</td>\n",
       "      <td>100</td>\n",
       "      <td>Dentist</td>\n",
       "      <td>1.0</td>\n",
       "      <td>Kanakpura Road</td>\n",
       "      <td>Bangalore</td>\n",
       "    </tr>\n",
       "  </tbody>\n",
       "</table>\n",
       "</div>"
      ],
      "text/plain": [
       "                                     Qualification           Experience  \\\n",
       "0                                             MBBS  35 years experience   \n",
       "1       MBBS, Diploma in Otorhinolaryngology (DLO)  31 years experience   \n",
       "2                                       MBBS, DDVL  40 years experience   \n",
       "3                                             BAMS   0 years experience   \n",
       "4  BDS, MDS - Conservative Dentistry & Endodontics  16 years experience   \n",
       "\n",
       "   Rating           Profile  Miscellaneous_Info              Area       City  \n",
       "0       0  General Medicine                 0.0    Ghatkopar East     Mumbai  \n",
       "1       0    ENT Specialist                 0.0  West Marredpally  Hyderabad  \n",
       "2      70    Dermatologists                 1.0          KK Nagar    Chennai  \n",
       "3       0          Ayurveda                 0.0   New Ashok Nagar      Delhi  \n",
       "4     100           Dentist                 1.0    Kanakpura Road  Bangalore  "
      ]
     },
     "execution_count": 25,
     "metadata": {},
     "output_type": "execute_result"
    }
   ],
   "source": [
    "dr_test.head()"
   ]
  },
  {
   "cell_type": "code",
   "execution_count": 26,
   "metadata": {},
   "outputs": [
    {
     "data": {
      "text/plain": [
       "(array(['Ernakulam', 'Bangalore', 'Chennai', 'Delhi', 'Hyderabad',\n",
       "        'Coimbatore', 'Mumbai', 'Thiruvananthapuram', 'not known',\n",
       "        'Sector 5', nan], dtype=object),\n",
       " 10)"
      ]
     },
     "execution_count": 26,
     "metadata": {},
     "output_type": "execute_result"
    }
   ],
   "source": [
    "dr_train['City'].unique(), dr_train['City'].nunique()"
   ]
  },
  {
   "cell_type": "code",
   "execution_count": 27,
   "metadata": {},
   "outputs": [
    {
     "data": {
      "text/plain": [
       "(array(['Mumbai', 'Hyderabad', 'Chennai', 'Delhi', 'Bangalore',\n",
       "        'Coimbatore', 'Thiruvananthapuram', 'Ernakulam', 'not known'],\n",
       "       dtype=object),\n",
       " 9)"
      ]
     },
     "execution_count": 27,
     "metadata": {},
     "output_type": "execute_result"
    }
   ],
   "source": [
    "dr_test['City'].unique(), dr_test['City'].nunique()"
   ]
  },
  {
   "cell_type": "markdown",
   "metadata": {},
   "source": [
    "we can see that the no of cities in train and test data is 10 and 9. We notice that Sector 5 is in  Delhi and we can replace 'Sector 5' to 'Delhi' in train data"
   ]
  },
  {
   "cell_type": "code",
   "execution_count": 28,
   "metadata": {},
   "outputs": [],
   "source": [
    "dr_train['City'] = dr_train['City'].replace(['Sector 5'],'Delhi')"
   ]
  },
  {
   "cell_type": "code",
   "execution_count": 29,
   "metadata": {},
   "outputs": [
    {
     "data": {
      "text/plain": [
       "(array(['Ernakulam', 'Bangalore', 'Chennai', 'Delhi', 'Hyderabad',\n",
       "        'Coimbatore', 'Mumbai', 'Thiruvananthapuram', 'not known', nan],\n",
       "       dtype=object),\n",
       " 9)"
      ]
     },
     "execution_count": 29,
     "metadata": {},
     "output_type": "execute_result"
    }
   ],
   "source": [
    "dr_train['City'].unique(), dr_train['City'].nunique()"
   ]
  },
  {
   "cell_type": "code",
   "execution_count": 30,
   "metadata": {},
   "outputs": [
    {
     "data": {
      "text/html": [
       "<div>\n",
       "<style scoped>\n",
       "    .dataframe tbody tr th:only-of-type {\n",
       "        vertical-align: middle;\n",
       "    }\n",
       "\n",
       "    .dataframe tbody tr th {\n",
       "        vertical-align: top;\n",
       "    }\n",
       "\n",
       "    .dataframe thead th {\n",
       "        text-align: right;\n",
       "    }\n",
       "</style>\n",
       "<table border=\"1\" class=\"dataframe\">\n",
       "  <thead>\n",
       "    <tr style=\"text-align: right;\">\n",
       "      <th></th>\n",
       "      <th>Qualification</th>\n",
       "      <th>Experience</th>\n",
       "      <th>Rating</th>\n",
       "      <th>Profile</th>\n",
       "      <th>Miscellaneous_Info</th>\n",
       "      <th>Fees</th>\n",
       "      <th>Area</th>\n",
       "      <th>City</th>\n",
       "    </tr>\n",
       "  </thead>\n",
       "  <tbody>\n",
       "    <tr>\n",
       "      <th>3980</th>\n",
       "      <td>BDS</td>\n",
       "      <td>23 years experience</td>\n",
       "      <td>0</td>\n",
       "      <td>Dentist</td>\n",
       "      <td>0.0</td>\n",
       "      <td>250</td>\n",
       "      <td>e</td>\n",
       "      <td>NaN</td>\n",
       "    </tr>\n",
       "  </tbody>\n",
       "</table>\n",
       "</div>"
      ],
      "text/plain": [
       "     Qualification           Experience  Rating  Profile  Miscellaneous_Info  \\\n",
       "3980           BDS  23 years experience       0  Dentist                 0.0   \n",
       "\n",
       "      Fees Area City  \n",
       "3980   250    e  NaN  "
      ]
     },
     "execution_count": 30,
     "metadata": {},
     "output_type": "execute_result"
    }
   ],
   "source": [
    "dr_train[dr_train['City'].isna()] "
   ]
  },
  {
   "cell_type": "markdown",
   "metadata": {},
   "source": [
    "In this column we need to impute 'City' and 'Area' column to 'not known' where 'City'=NaN.\n"
   ]
  },
  {
   "cell_type": "markdown",
   "metadata": {},
   "source": [
    "we can use loc: 3980 to do the same"
   ]
  },
  {
   "cell_type": "code",
   "execution_count": 31,
   "metadata": {},
   "outputs": [],
   "source": [
    "dr_train['City'].loc[3980] = \"not known\"\n",
    "dr_train['Area'].loc[3980] = \"not known\""
   ]
  },
  {
   "cell_type": "code",
   "execution_count": 32,
   "metadata": {},
   "outputs": [
    {
     "data": {
      "text/plain": [
       "(array(['Ernakulam', 'Bangalore', 'Chennai', 'Delhi', 'Hyderabad',\n",
       "        'Coimbatore', 'Mumbai', 'Thiruvananthapuram', 'not known'],\n",
       "       dtype=object),\n",
       " 9)"
      ]
     },
     "execution_count": 32,
     "metadata": {},
     "output_type": "execute_result"
    }
   ],
   "source": [
    "dr_train['City'].unique(), dr_train['City'].nunique()"
   ]
  },
  {
   "cell_type": "code",
   "execution_count": 33,
   "metadata": {},
   "outputs": [
    {
     "data": {
      "text/plain": [
       "(0, 0, 0, 0)"
      ]
     },
     "execution_count": 33,
     "metadata": {},
     "output_type": "execute_result"
    }
   ],
   "source": [
    "dr_train['Area'].isnull().sum(),dr_test['Area'].isnull().sum(),dr_train['City'].isnull().sum(),dr_test['City'].isnull().sum()"
   ]
  },
  {
   "cell_type": "markdown",
   "metadata": {},
   "source": [
    "We have removed all the null values from the 'City' and \"Area\" Columns and we are good to go"
   ]
  },
  {
   "cell_type": "code",
   "execution_count": 34,
   "metadata": {},
   "outputs": [
    {
     "data": {
      "text/plain": [
       "0    24 years experience\n",
       "1    12 years experience\n",
       "2     9 years experience\n",
       "3    12 years experience\n",
       "4    20 years experience\n",
       "Name: Experience, dtype: object"
      ]
     },
     "execution_count": 34,
     "metadata": {},
     "output_type": "execute_result"
    }
   ],
   "source": [
    "dr_train['Experience'].head() # converting it into numerical "
   ]
  },
  {
   "cell_type": "code",
   "execution_count": 35,
   "metadata": {},
   "outputs": [],
   "source": [
    "dr_train['Experience'] = dr_train['Experience'].str.split(\" \").str[0]\n",
    "dr_test['Experience'] = dr_test['Experience'].str.split(\" \").str[0]"
   ]
  },
  {
   "cell_type": "markdown",
   "metadata": {},
   "source": [
    "Now we remove any empty spaces if present in 'Experience' column in train and test data"
   ]
  },
  {
   "cell_type": "code",
   "execution_count": 36,
   "metadata": {},
   "outputs": [],
   "source": [
    "dr_train['Experience'] = dr_train['Experience'].str.strip()\n",
    "dr_test['Experience'] = dr_test['Experience'].str.strip()"
   ]
  },
  {
   "cell_type": "markdown",
   "metadata": {},
   "source": [
    "As it is of string data type we have tp Convert it into integer "
   ]
  },
  {
   "cell_type": "code",
   "execution_count": 37,
   "metadata": {},
   "outputs": [],
   "source": [
    "dr_train['Experience'] = dr_train['Experience'].astype(int)\n",
    "dr_test['Experience'] = dr_test['Experience'].astype(int)\n"
   ]
  },
  {
   "cell_type": "code",
   "execution_count": 38,
   "metadata": {},
   "outputs": [
    {
     "data": {
      "text/plain": [
       "0    24\n",
       "1    12\n",
       "2     9\n",
       "3    12\n",
       "4    20\n",
       "Name: Experience, dtype: int32"
      ]
     },
     "execution_count": 38,
     "metadata": {},
     "output_type": "execute_result"
    }
   ],
   "source": [
    "dr_train['Experience'].head() #crosschecking"
   ]
  },
  {
   "cell_type": "code",
   "execution_count": 39,
   "metadata": {},
   "outputs": [
    {
     "data": {
      "text/plain": [
       "0    35\n",
       "1    31\n",
       "2    40\n",
       "3     0\n",
       "4    16\n",
       "Name: Experience, dtype: int32"
      ]
     },
     "execution_count": 39,
     "metadata": {},
     "output_type": "execute_result"
    }
   ],
   "source": [
    "dr_test['Experience'].head() #crosschecking"
   ]
  },
  {
   "cell_type": "code",
   "execution_count": 40,
   "metadata": {},
   "outputs": [
    {
     "data": {
      "text/plain": [
       "Qualification          object\n",
       "Experience              int32\n",
       "Rating                  int32\n",
       "Profile                object\n",
       "Miscellaneous_Info    float64\n",
       "Fees                    int64\n",
       "Area                   object\n",
       "City                   object\n",
       "dtype: object"
      ]
     },
     "execution_count": 40,
     "metadata": {},
     "output_type": "execute_result"
    }
   ],
   "source": [
    "dr_train.dtypes"
   ]
  },
  {
   "cell_type": "markdown",
   "metadata": {},
   "source": [
    "# Splitting of train data into Independent and Target variables"
   ]
  },
  {
   "cell_type": "code",
   "execution_count": 41,
   "metadata": {},
   "outputs": [],
   "source": [
    "ind=dr_train.drop(\"Fees\",axis=1)\n",
    "tar=dr_train[\"Fees\"]\n",
    "#splitting individual and target variable in ind and tar"
   ]
  },
  {
   "cell_type": "markdown",
   "metadata": {},
   "source": [
    "# Label Encoding\n",
    "Converting Categorical Variables to numerical"
   ]
  },
  {
   "cell_type": "code",
   "execution_count": 42,
   "metadata": {},
   "outputs": [],
   "source": [
    "from sklearn.preprocessing import LabelEncoder"
   ]
  },
  {
   "cell_type": "code",
   "execution_count": 43,
   "metadata": {},
   "outputs": [],
   "source": [
    "label = LabelEncoder()"
   ]
  },
  {
   "cell_type": "code",
   "execution_count": 44,
   "metadata": {},
   "outputs": [],
   "source": [
    "ind['Qualification']=label.fit_transform(ind['Qualification'])\n",
    "ind['Profile']=label.fit_transform(ind['Profile'])\n",
    "ind['Area']=label.fit_transform(ind['Area'])\n",
    "ind['City']=label.fit_transform(ind['City'])"
   ]
  },
  {
   "cell_type": "code",
   "execution_count": 45,
   "metadata": {},
   "outputs": [
    {
     "data": {
      "text/html": [
       "<div>\n",
       "<style scoped>\n",
       "    .dataframe tbody tr th:only-of-type {\n",
       "        vertical-align: middle;\n",
       "    }\n",
       "\n",
       "    .dataframe tbody tr th {\n",
       "        vertical-align: top;\n",
       "    }\n",
       "\n",
       "    .dataframe thead th {\n",
       "        text-align: right;\n",
       "    }\n",
       "</style>\n",
       "<table border=\"1\" class=\"dataframe\">\n",
       "  <thead>\n",
       "    <tr style=\"text-align: right;\">\n",
       "      <th></th>\n",
       "      <th>Qualification</th>\n",
       "      <th>Experience</th>\n",
       "      <th>Rating</th>\n",
       "      <th>Profile</th>\n",
       "      <th>Miscellaneous_Info</th>\n",
       "      <th>Area</th>\n",
       "      <th>City</th>\n",
       "    </tr>\n",
       "  </thead>\n",
       "  <tbody>\n",
       "    <tr>\n",
       "      <th>0</th>\n",
       "      <td>401</td>\n",
       "      <td>24</td>\n",
       "      <td>100</td>\n",
       "      <td>5</td>\n",
       "      <td>1.0</td>\n",
       "      <td>296</td>\n",
       "      <td>4</td>\n",
       "    </tr>\n",
       "    <tr>\n",
       "      <th>1</th>\n",
       "      <td>73</td>\n",
       "      <td>12</td>\n",
       "      <td>98</td>\n",
       "      <td>0</td>\n",
       "      <td>1.0</td>\n",
       "      <td>855</td>\n",
       "      <td>0</td>\n",
       "    </tr>\n",
       "    <tr>\n",
       "      <th>2</th>\n",
       "      <td>1135</td>\n",
       "      <td>9</td>\n",
       "      <td>0</td>\n",
       "      <td>3</td>\n",
       "      <td>0.0</td>\n",
       "      <td>452</td>\n",
       "      <td>0</td>\n",
       "    </tr>\n",
       "    <tr>\n",
       "      <th>3</th>\n",
       "      <td>464</td>\n",
       "      <td>12</td>\n",
       "      <td>0</td>\n",
       "      <td>0</td>\n",
       "      <td>1.0</td>\n",
       "      <td>68</td>\n",
       "      <td>0</td>\n",
       "    </tr>\n",
       "    <tr>\n",
       "      <th>4</th>\n",
       "      <td>10</td>\n",
       "      <td>20</td>\n",
       "      <td>100</td>\n",
       "      <td>0</td>\n",
       "      <td>1.0</td>\n",
       "      <td>335</td>\n",
       "      <td>1</td>\n",
       "    </tr>\n",
       "  </tbody>\n",
       "</table>\n",
       "</div>"
      ],
      "text/plain": [
       "   Qualification  Experience  Rating  Profile  Miscellaneous_Info  Area  City\n",
       "0            401          24     100        5                 1.0   296     4\n",
       "1             73          12      98        0                 1.0   855     0\n",
       "2           1135           9       0        3                 0.0   452     0\n",
       "3            464          12       0        0                 1.0    68     0\n",
       "4             10          20     100        0                 1.0   335     1"
      ]
     },
     "execution_count": 45,
     "metadata": {},
     "output_type": "execute_result"
    }
   ],
   "source": [
    "ind.head()"
   ]
  },
  {
   "cell_type": "code",
   "execution_count": 46,
   "metadata": {},
   "outputs": [
    {
     "data": {
      "text/html": [
       "<div>\n",
       "<style scoped>\n",
       "    .dataframe tbody tr th:only-of-type {\n",
       "        vertical-align: middle;\n",
       "    }\n",
       "\n",
       "    .dataframe tbody tr th {\n",
       "        vertical-align: top;\n",
       "    }\n",
       "\n",
       "    .dataframe thead th {\n",
       "        text-align: right;\n",
       "    }\n",
       "</style>\n",
       "<table border=\"1\" class=\"dataframe\">\n",
       "  <thead>\n",
       "    <tr style=\"text-align: right;\">\n",
       "      <th></th>\n",
       "      <th>Qualification</th>\n",
       "      <th>Experience</th>\n",
       "      <th>Rating</th>\n",
       "      <th>Profile</th>\n",
       "      <th>Miscellaneous_Info</th>\n",
       "      <th>Area</th>\n",
       "      <th>City</th>\n",
       "    </tr>\n",
       "  </thead>\n",
       "  <tbody>\n",
       "    <tr>\n",
       "      <th>Qualification</th>\n",
       "      <td>1.000000</td>\n",
       "      <td>0.134697</td>\n",
       "      <td>0.023533</td>\n",
       "      <td>0.393123</td>\n",
       "      <td>0.019150</td>\n",
       "      <td>0.006294</td>\n",
       "      <td>-0.028609</td>\n",
       "    </tr>\n",
       "    <tr>\n",
       "      <th>Experience</th>\n",
       "      <td>0.134697</td>\n",
       "      <td>1.000000</td>\n",
       "      <td>-0.038569</td>\n",
       "      <td>0.202073</td>\n",
       "      <td>-0.120359</td>\n",
       "      <td>0.000484</td>\n",
       "      <td>0.017615</td>\n",
       "    </tr>\n",
       "    <tr>\n",
       "      <th>Rating</th>\n",
       "      <td>0.023533</td>\n",
       "      <td>-0.038569</td>\n",
       "      <td>1.000000</td>\n",
       "      <td>-0.126389</td>\n",
       "      <td>0.734893</td>\n",
       "      <td>-0.045739</td>\n",
       "      <td>-0.102761</td>\n",
       "    </tr>\n",
       "    <tr>\n",
       "      <th>Profile</th>\n",
       "      <td>0.393123</td>\n",
       "      <td>0.202073</td>\n",
       "      <td>-0.126389</td>\n",
       "      <td>1.000000</td>\n",
       "      <td>-0.170498</td>\n",
       "      <td>0.016642</td>\n",
       "      <td>-0.015026</td>\n",
       "    </tr>\n",
       "    <tr>\n",
       "      <th>Miscellaneous_Info</th>\n",
       "      <td>0.019150</td>\n",
       "      <td>-0.120359</td>\n",
       "      <td>0.734893</td>\n",
       "      <td>-0.170498</td>\n",
       "      <td>1.000000</td>\n",
       "      <td>-0.043156</td>\n",
       "      <td>-0.095527</td>\n",
       "    </tr>\n",
       "    <tr>\n",
       "      <th>Area</th>\n",
       "      <td>0.006294</td>\n",
       "      <td>0.000484</td>\n",
       "      <td>-0.045739</td>\n",
       "      <td>0.016642</td>\n",
       "      <td>-0.043156</td>\n",
       "      <td>1.000000</td>\n",
       "      <td>-0.072861</td>\n",
       "    </tr>\n",
       "    <tr>\n",
       "      <th>City</th>\n",
       "      <td>-0.028609</td>\n",
       "      <td>0.017615</td>\n",
       "      <td>-0.102761</td>\n",
       "      <td>-0.015026</td>\n",
       "      <td>-0.095527</td>\n",
       "      <td>-0.072861</td>\n",
       "      <td>1.000000</td>\n",
       "    </tr>\n",
       "  </tbody>\n",
       "</table>\n",
       "</div>"
      ],
      "text/plain": [
       "                    Qualification  Experience    Rating   Profile  \\\n",
       "Qualification            1.000000    0.134697  0.023533  0.393123   \n",
       "Experience               0.134697    1.000000 -0.038569  0.202073   \n",
       "Rating                   0.023533   -0.038569  1.000000 -0.126389   \n",
       "Profile                  0.393123    0.202073 -0.126389  1.000000   \n",
       "Miscellaneous_Info       0.019150   -0.120359  0.734893 -0.170498   \n",
       "Area                     0.006294    0.000484 -0.045739  0.016642   \n",
       "City                    -0.028609    0.017615 -0.102761 -0.015026   \n",
       "\n",
       "                    Miscellaneous_Info      Area      City  \n",
       "Qualification                 0.019150  0.006294 -0.028609  \n",
       "Experience                   -0.120359  0.000484  0.017615  \n",
       "Rating                        0.734893 -0.045739 -0.102761  \n",
       "Profile                      -0.170498  0.016642 -0.015026  \n",
       "Miscellaneous_Info            1.000000 -0.043156 -0.095527  \n",
       "Area                         -0.043156  1.000000 -0.072861  \n",
       "City                         -0.095527 -0.072861  1.000000  "
      ]
     },
     "execution_count": 46,
     "metadata": {},
     "output_type": "execute_result"
    }
   ],
   "source": [
    "ind.corr()"
   ]
  },
  {
   "cell_type": "markdown",
   "metadata": {},
   "source": [
    "we can see there is high correlation between 'Miscellaneous_Info' and 'Rating'. we can drop 'Miscellaneous_Info' as the information is not proper and it is messy"
   ]
  },
  {
   "cell_type": "code",
   "execution_count": 47,
   "metadata": {},
   "outputs": [],
   "source": [
    "ind.drop('Miscellaneous_Info',axis=1,inplace=True)"
   ]
  },
  {
   "cell_type": "markdown",
   "metadata": {},
   "source": [
    "# Data Modeling and prediciton"
   ]
  },
  {
   "cell_type": "code",
   "execution_count": 48,
   "metadata": {},
   "outputs": [],
   "source": [
    "from sklearn.model_selection import train_test_split"
   ]
  },
  {
   "cell_type": "code",
   "execution_count": 49,
   "metadata": {},
   "outputs": [],
   "source": [
    "# splitting data into training and testing \n",
    "ind_train, ind_test, tar_train, tar_test = train_test_split(ind, tar, test_size=0.33, random_state=42)"
   ]
  },
  {
   "cell_type": "code",
   "execution_count": 50,
   "metadata": {},
   "outputs": [
    {
     "data": {
      "text/plain": [
       "(3993, 1968, 3993, 1968)"
      ]
     },
     "execution_count": 50,
     "metadata": {},
     "output_type": "execute_result"
    }
   ],
   "source": [
    "len(ind_train),len(ind_test),len( tar_train),len(tar_test)"
   ]
  },
  {
   "cell_type": "markdown",
   "metadata": {},
   "source": [
    "Label Encoding of test data"
   ]
  },
  {
   "cell_type": "code",
   "execution_count": 51,
   "metadata": {},
   "outputs": [],
   "source": [
    "dr_test['Qualification']=label.fit_transform(dr_test['Qualification'])\n",
    "dr_test['Profile']=label.fit_transform(dr_test['Profile'])\n",
    "dr_test['Area']=label.fit_transform(dr_test['Area'])\n",
    "dr_test['City']=label.fit_transform(dr_test['City'])"
   ]
  },
  {
   "cell_type": "code",
   "execution_count": 52,
   "metadata": {},
   "outputs": [
    {
     "data": {
      "text/html": [
       "<div>\n",
       "<style scoped>\n",
       "    .dataframe tbody tr th:only-of-type {\n",
       "        vertical-align: middle;\n",
       "    }\n",
       "\n",
       "    .dataframe tbody tr th {\n",
       "        vertical-align: top;\n",
       "    }\n",
       "\n",
       "    .dataframe thead th {\n",
       "        text-align: right;\n",
       "    }\n",
       "</style>\n",
       "<table border=\"1\" class=\"dataframe\">\n",
       "  <thead>\n",
       "    <tr style=\"text-align: right;\">\n",
       "      <th></th>\n",
       "      <th>Qualification</th>\n",
       "      <th>Experience</th>\n",
       "      <th>Rating</th>\n",
       "      <th>Profile</th>\n",
       "      <th>Miscellaneous_Info</th>\n",
       "      <th>Area</th>\n",
       "      <th>City</th>\n",
       "    </tr>\n",
       "  </thead>\n",
       "  <tbody>\n",
       "    <tr>\n",
       "      <th>0</th>\n",
       "      <td>241</td>\n",
       "      <td>35</td>\n",
       "      <td>0</td>\n",
       "      <td>4</td>\n",
       "      <td>0.0</td>\n",
       "      <td>142</td>\n",
       "      <td>6</td>\n",
       "    </tr>\n",
       "    <tr>\n",
       "      <th>1</th>\n",
       "      <td>340</td>\n",
       "      <td>31</td>\n",
       "      <td>0</td>\n",
       "      <td>3</td>\n",
       "      <td>0.0</td>\n",
       "      <td>577</td>\n",
       "      <td>5</td>\n",
       "    </tr>\n",
       "    <tr>\n",
       "      <th>2</th>\n",
       "      <td>258</td>\n",
       "      <td>40</td>\n",
       "      <td>70</td>\n",
       "      <td>2</td>\n",
       "      <td>1.0</td>\n",
       "      <td>212</td>\n",
       "      <td>1</td>\n",
       "    </tr>\n",
       "    <tr>\n",
       "      <th>3</th>\n",
       "      <td>6</td>\n",
       "      <td>0</td>\n",
       "      <td>0</td>\n",
       "      <td>0</td>\n",
       "      <td>0.0</td>\n",
       "      <td>373</td>\n",
       "      <td>3</td>\n",
       "    </tr>\n",
       "    <tr>\n",
       "      <th>4</th>\n",
       "      <td>79</td>\n",
       "      <td>16</td>\n",
       "      <td>100</td>\n",
       "      <td>1</td>\n",
       "      <td>1.0</td>\n",
       "      <td>231</td>\n",
       "      <td>0</td>\n",
       "    </tr>\n",
       "  </tbody>\n",
       "</table>\n",
       "</div>"
      ],
      "text/plain": [
       "   Qualification  Experience  Rating  Profile  Miscellaneous_Info  Area  City\n",
       "0            241          35       0        4                 0.0   142     6\n",
       "1            340          31       0        3                 0.0   577     5\n",
       "2            258          40      70        2                 1.0   212     1\n",
       "3              6           0       0        0                 0.0   373     3\n",
       "4             79          16     100        1                 1.0   231     0"
      ]
     },
     "execution_count": 52,
     "metadata": {},
     "output_type": "execute_result"
    }
   ],
   "source": [
    "dr_test.head()"
   ]
  },
  {
   "cell_type": "code",
   "execution_count": 53,
   "metadata": {},
   "outputs": [
    {
     "data": {
      "text/html": [
       "<div>\n",
       "<style scoped>\n",
       "    .dataframe tbody tr th:only-of-type {\n",
       "        vertical-align: middle;\n",
       "    }\n",
       "\n",
       "    .dataframe tbody tr th {\n",
       "        vertical-align: top;\n",
       "    }\n",
       "\n",
       "    .dataframe thead th {\n",
       "        text-align: right;\n",
       "    }\n",
       "</style>\n",
       "<table border=\"1\" class=\"dataframe\">\n",
       "  <thead>\n",
       "    <tr style=\"text-align: right;\">\n",
       "      <th></th>\n",
       "      <th>Qualification</th>\n",
       "      <th>Experience</th>\n",
       "      <th>Rating</th>\n",
       "      <th>Profile</th>\n",
       "      <th>Miscellaneous_Info</th>\n",
       "      <th>Area</th>\n",
       "      <th>City</th>\n",
       "    </tr>\n",
       "  </thead>\n",
       "  <tbody>\n",
       "    <tr>\n",
       "      <th>Qualification</th>\n",
       "      <td>1.000000</td>\n",
       "      <td>0.112672</td>\n",
       "      <td>0.044551</td>\n",
       "      <td>0.372002</td>\n",
       "      <td>0.059115</td>\n",
       "      <td>0.020665</td>\n",
       "      <td>-0.036618</td>\n",
       "    </tr>\n",
       "    <tr>\n",
       "      <th>Experience</th>\n",
       "      <td>0.112672</td>\n",
       "      <td>1.000000</td>\n",
       "      <td>-0.019059</td>\n",
       "      <td>0.154077</td>\n",
       "      <td>-0.103514</td>\n",
       "      <td>0.025714</td>\n",
       "      <td>-0.008124</td>\n",
       "    </tr>\n",
       "    <tr>\n",
       "      <th>Rating</th>\n",
       "      <td>0.044551</td>\n",
       "      <td>-0.019059</td>\n",
       "      <td>1.000000</td>\n",
       "      <td>-0.134298</td>\n",
       "      <td>0.721721</td>\n",
       "      <td>-0.051470</td>\n",
       "      <td>-0.045163</td>\n",
       "    </tr>\n",
       "    <tr>\n",
       "      <th>Profile</th>\n",
       "      <td>0.372002</td>\n",
       "      <td>0.154077</td>\n",
       "      <td>-0.134298</td>\n",
       "      <td>1.000000</td>\n",
       "      <td>-0.155175</td>\n",
       "      <td>-0.005737</td>\n",
       "      <td>0.029252</td>\n",
       "    </tr>\n",
       "    <tr>\n",
       "      <th>Miscellaneous_Info</th>\n",
       "      <td>0.059115</td>\n",
       "      <td>-0.103514</td>\n",
       "      <td>0.721721</td>\n",
       "      <td>-0.155175</td>\n",
       "      <td>1.000000</td>\n",
       "      <td>-0.039188</td>\n",
       "      <td>-0.036068</td>\n",
       "    </tr>\n",
       "    <tr>\n",
       "      <th>Area</th>\n",
       "      <td>0.020665</td>\n",
       "      <td>0.025714</td>\n",
       "      <td>-0.051470</td>\n",
       "      <td>-0.005737</td>\n",
       "      <td>-0.039188</td>\n",
       "      <td>1.000000</td>\n",
       "      <td>-0.089014</td>\n",
       "    </tr>\n",
       "    <tr>\n",
       "      <th>City</th>\n",
       "      <td>-0.036618</td>\n",
       "      <td>-0.008124</td>\n",
       "      <td>-0.045163</td>\n",
       "      <td>0.029252</td>\n",
       "      <td>-0.036068</td>\n",
       "      <td>-0.089014</td>\n",
       "      <td>1.000000</td>\n",
       "    </tr>\n",
       "  </tbody>\n",
       "</table>\n",
       "</div>"
      ],
      "text/plain": [
       "                    Qualification  Experience    Rating   Profile  \\\n",
       "Qualification            1.000000    0.112672  0.044551  0.372002   \n",
       "Experience               0.112672    1.000000 -0.019059  0.154077   \n",
       "Rating                   0.044551   -0.019059  1.000000 -0.134298   \n",
       "Profile                  0.372002    0.154077 -0.134298  1.000000   \n",
       "Miscellaneous_Info       0.059115   -0.103514  0.721721 -0.155175   \n",
       "Area                     0.020665    0.025714 -0.051470 -0.005737   \n",
       "City                    -0.036618   -0.008124 -0.045163  0.029252   \n",
       "\n",
       "                    Miscellaneous_Info      Area      City  \n",
       "Qualification                 0.059115  0.020665 -0.036618  \n",
       "Experience                   -0.103514  0.025714 -0.008124  \n",
       "Rating                        0.721721 -0.051470 -0.045163  \n",
       "Profile                      -0.155175 -0.005737  0.029252  \n",
       "Miscellaneous_Info            1.000000 -0.039188 -0.036068  \n",
       "Area                         -0.039188  1.000000 -0.089014  \n",
       "City                         -0.036068 -0.089014  1.000000  "
      ]
     },
     "execution_count": 53,
     "metadata": {},
     "output_type": "execute_result"
    }
   ],
   "source": [
    "dr_test.corr()"
   ]
  },
  {
   "cell_type": "markdown",
   "metadata": {},
   "source": [
    "we can see there is high correlation between 'Miscellaneous_Info' and 'Rating'. we can drop 'Miscellaneous_Info' as the information is not proper and it is messy"
   ]
  },
  {
   "cell_type": "code",
   "execution_count": 54,
   "metadata": {},
   "outputs": [],
   "source": [
    "dr_test.drop('Miscellaneous_Info',axis=1,inplace=True)"
   ]
  },
  {
   "cell_type": "code",
   "execution_count": 55,
   "metadata": {},
   "outputs": [],
   "source": [
    "from sklearn.neighbors import KNeighborsRegressor\n",
    "from sklearn.svm import SVR\n",
    "from sklearn.tree import DecisionTreeRegressor\n",
    "from sklearn.linear_model import LinearRegression\n",
    "from sklearn.metrics import make_scorer\n",
    "from sklearn.metrics import r2_score,mean_squared_error\n",
    "from sklearn.ensemble import RandomForestRegressor\n"
   ]
  },
  {
   "cell_type": "code",
   "execution_count": 61,
   "metadata": {},
   "outputs": [],
   "source": [
    "knn = KNeighborsRegressor()\n",
    "svm = SVR(gamma='scale')\n",
    "dt = DecisionTreeRegressor()\n",
    "rf = RandomForestRegressor()\n",
    "lr= LinearRegression()"
   ]
  },
  {
   "cell_type": "code",
   "execution_count": 64,
   "metadata": {},
   "outputs": [
    {
     "name": "stdout",
     "output_type": "stream",
     "text": [
      "for KNeighborsRegressor(algorithm='auto', leaf_size=30, metric='minkowski',\n",
      "                    metric_params=None, n_jobs=None, n_neighbors=5, p=2,\n",
      "                    weights='uniform')\n",
      "RMSE : 153.9675651865567\n",
      "RMSE : 188.82199978187398\n",
      "Train R^2:  0.3561463672365962\n",
      "for SVR(C=1.0, cache_size=200, coef0=0.0, degree=3, epsilon=0.1, gamma='scale',\n",
      "    kernel='rbf', max_iter=-1, shrinking=True, tol=0.001, verbose=False)\n",
      "RMSE : 188.0422607930807\n",
      "RMSE : 183.34922474124406\n",
      "Train R^2:  0.03962776809450974\n",
      "for DecisionTreeRegressor(ccp_alpha=0.0, criterion='mse', max_depth=None,\n",
      "                      max_features=None, max_leaf_nodes=None,\n",
      "                      min_impurity_decrease=0.0, min_impurity_split=None,\n",
      "                      min_samples_leaf=1, min_samples_split=2,\n",
      "                      min_weight_fraction_leaf=0.0, presort='deprecated',\n",
      "                      random_state=None, splitter='best')\n",
      "RMSE : 10.487929291481093\n",
      "RMSE : 238.63799995039602\n",
      "Train R^2:  0.9970124982530384\n",
      "for RandomForestRegressor(bootstrap=True, ccp_alpha=0.0, criterion='mse',\n",
      "                      max_depth=None, max_features='auto', max_leaf_nodes=None,\n",
      "                      max_samples=None, min_impurity_decrease=0.0,\n",
      "                      min_impurity_split=None, min_samples_leaf=1,\n",
      "                      min_samples_split=2, min_weight_fraction_leaf=0.0,\n",
      "                      n_estimators=100, n_jobs=None, oob_score=False,\n",
      "                      random_state=None, verbose=0, warm_start=False)\n",
      "RMSE : 66.2577650340714\n",
      "RMSE : 173.2319893866368\n",
      "Train R^2:  0.8807654186020976\n",
      "for LinearRegression(copy_X=True, fit_intercept=True, n_jobs=None, normalize=False)\n",
      "RMSE : 182.92998869174735\n",
      "RMSE : 177.27919438503628\n",
      "Train R^2:  0.09113687870247977\n"
     ]
    }
   ],
   "source": [
    "for m in [knn,svm,dt,rf,lr]:\n",
    "    m.fit(ind_train,tar_train)\n",
    "    train_predict = m.predict(ind_train)\n",
    "    test_predict = m.predict(ind_test)\n",
    "    print('for',m)\n",
    "    print(\"RMSE :\", np.sqrt(mean_squared_error(tar_train, train_predict)))\n",
    "    print(\"RMSE :\", np.sqrt(mean_squared_error(tar_test, test_predict)))\n",
    "    print(\"Train R^2: \", r2_score(tar_train, train_predict))"
   ]
  },
  {
   "cell_type": "markdown",
   "metadata": {},
   "source": [
    "We can see that RandomForestRegressor model is performing well. Therefore we use this model to predict the test data"
   ]
  },
  {
   "cell_type": "markdown",
   "metadata": {},
   "source": [
    "we can get best parameters by using testdata to improve the model "
   ]
  },
  {
   "cell_type": "code",
   "execution_count": 58,
   "metadata": {},
   "outputs": [
    {
     "name": "stdout",
     "output_type": "stream",
     "text": [
      "{'criterion': 'mae', 'max_features': 'log2'}\n"
     ]
    }
   ],
   "source": [
    "from sklearn.model_selection import GridSearchCV\n",
    "parameters={'criterion':['mse','mae'],'max_features': ['auto','sqrt','log2']}\n",
    "rf=RandomForestRegressor()\n",
    "gs=GridSearchCV(rf,parameters)\n",
    "gs.fit(ind_train,tar_train)\n",
    "print(gs.best_params_)\n",
    "#best parameters"
   ]
  },
  {
   "cell_type": "markdown",
   "metadata": {},
   "source": [
    "Predicting the test data using the RandomForestRegressor model "
   ]
  },
  {
   "cell_type": "code",
   "execution_count": 65,
   "metadata": {},
   "outputs": [],
   "source": [
    "test_predict = rf.predict(dr_test)"
   ]
  },
  {
   "cell_type": "code",
   "execution_count": 66,
   "metadata": {},
   "outputs": [
    {
     "data": {
      "text/plain": [
       "array([389.1 , 315.5 , 302.7 , ..., 296.75, 213.  , 257.6 ])"
      ]
     },
     "execution_count": 66,
     "metadata": {},
     "output_type": "execute_result"
    }
   ],
   "source": [
    "test_predict"
   ]
  },
  {
   "cell_type": "markdown",
   "metadata": {},
   "source": [
    "we can see that the predicted fees are in float values. We can see that in given data fees is in multiples of 50. Therefore we must round them up with 50"
   ]
  },
  {
   "cell_type": "code",
   "execution_count": 67,
   "metadata": {},
   "outputs": [],
   "source": [
    "#rounding off to multiples of 5\n",
    "# if the tens\n",
    "def roundoff(r):\n",
    "    a=(r//50)*50\n",
    "    if a==r:\n",
    "        return int(r)\n",
    "    elif r-a>=25.0:\n",
    "        return int((a+50))\n",
    "    else:\n",
    "        return int(a)"
   ]
  },
  {
   "cell_type": "code",
   "execution_count": 68,
   "metadata": {},
   "outputs": [
    {
     "name": "stdout",
     "output_type": "stream",
     "text": [
      "   id  Fees\n",
      "0   1   400\n",
      "1   2   300\n",
      "2   3   300\n",
      "3   4   250\n",
      "4   5   250\n"
     ]
    }
   ],
   "source": [
    "#predicted test data after rounding off in multiples of 50\n",
    "testdata=[]\n",
    "for i in range(len(test_predict)):\n",
    "    testdata.append(roundoff(test_predict[i]))\n",
    "testdata=pd.DataFrame({'id':np.arange(1,len(testdata)+1,1),'Fees':testdata})\n",
    "print(testdata.head())"
   ]
  },
  {
   "cell_type": "code",
   "execution_count": null,
   "metadata": {},
   "outputs": [],
   "source": []
  }
 ],
 "metadata": {
  "kernelspec": {
   "display_name": "Python 3",
   "language": "python",
   "name": "python3"
  }
 },
 "nbformat": 4,
 "nbformat_minor": 4
}
